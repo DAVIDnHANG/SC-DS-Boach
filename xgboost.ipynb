{
 "cells": [
  {
   "cell_type": "code",
   "execution_count": 26,
   "metadata": {
    "collapsed": true,
    "pycharm": {
     "is_executing": false
    }
   },
   "outputs": [],
   "source": [
    "import numpy as np\n",
    "import pandas as pd\n",
    "from xgboost import XGBClassifier\n",
    "from sklearn.metrics import matthews_corrcoef, roc_auc_score"
   ]
  },
  {
   "cell_type": "code",
   "execution_count": 27,
   "outputs": [
    {
     "traceback": [
      "\u001b[1;31m---------------------------------------------------------------------------\u001b[0m",
      "\u001b[1;31mImportError\u001b[0m                               Traceback (most recent call last)",
      "\u001b[1;32m<ipython-input-27-d7c276db6506>\u001b[0m in \u001b[0;36m<module>\u001b[1;34m\u001b[0m\n\u001b[1;32m----> 1\u001b[1;33m \u001b[1;32mfrom\u001b[0m \u001b[0mmatplotlib\u001b[0m\u001b[1;33m.\u001b[0m\u001b[0mpyplot\u001b[0m \u001b[1;32mimport\u001b[0m \u001b[0mhist\u001b[0m \u001b[1;32mas\u001b[0m \u001b[0mplt\u001b[0m\u001b[1;33m\u001b[0m\u001b[1;33m\u001b[0m\u001b[0m\n\u001b[0m",
      "\u001b[1;32mF:\\Users\\Conda\\DSDefault\\lib\\site-packages\\matplotlib\\pyplot.py\u001b[0m in \u001b[0;36m<module>\u001b[1;34m\u001b[0m\n\u001b[0;32m     30\u001b[0m \u001b[1;32mfrom\u001b[0m \u001b[0mcycler\u001b[0m \u001b[1;32mimport\u001b[0m \u001b[0mcycler\u001b[0m\u001b[1;33m\u001b[0m\u001b[1;33m\u001b[0m\u001b[0m\n\u001b[0;32m     31\u001b[0m \u001b[1;32mimport\u001b[0m \u001b[0mmatplotlib\u001b[0m\u001b[1;33m\u001b[0m\u001b[1;33m\u001b[0m\u001b[0m\n\u001b[1;32m---> 32\u001b[1;33m \u001b[1;32mimport\u001b[0m \u001b[0mmatplotlib\u001b[0m\u001b[1;33m.\u001b[0m\u001b[0mcolorbar\u001b[0m\u001b[1;33m\u001b[0m\u001b[1;33m\u001b[0m\u001b[0m\n\u001b[0m\u001b[0;32m     33\u001b[0m \u001b[1;32mimport\u001b[0m \u001b[0mmatplotlib\u001b[0m\u001b[1;33m.\u001b[0m\u001b[0mimage\u001b[0m\u001b[1;33m\u001b[0m\u001b[1;33m\u001b[0m\u001b[0m\n\u001b[0;32m     34\u001b[0m \u001b[1;32mfrom\u001b[0m \u001b[0mmatplotlib\u001b[0m \u001b[1;32mimport\u001b[0m \u001b[0mrcsetup\u001b[0m\u001b[1;33m,\u001b[0m \u001b[0mstyle\u001b[0m\u001b[1;33m\u001b[0m\u001b[1;33m\u001b[0m\u001b[0m\n",
      "\u001b[1;32mF:\\Users\\Conda\\DSDefault\\lib\\site-packages\\matplotlib\\colorbar.py\u001b[0m in \u001b[0;36m<module>\u001b[1;34m\u001b[0m\n\u001b[0;32m     27\u001b[0m \u001b[1;32mimport\u001b[0m \u001b[0mmatplotlib\u001b[0m\u001b[1;33m.\u001b[0m\u001b[0martist\u001b[0m \u001b[1;32mas\u001b[0m \u001b[0mmartist\u001b[0m\u001b[1;33m\u001b[0m\u001b[1;33m\u001b[0m\u001b[0m\n\u001b[0;32m     28\u001b[0m \u001b[1;32mimport\u001b[0m \u001b[0mmatplotlib\u001b[0m\u001b[1;33m.\u001b[0m\u001b[0mcbook\u001b[0m \u001b[1;32mas\u001b[0m \u001b[0mcbook\u001b[0m\u001b[1;33m\u001b[0m\u001b[1;33m\u001b[0m\u001b[0m\n\u001b[1;32m---> 29\u001b[1;33m \u001b[1;32mimport\u001b[0m \u001b[0mmatplotlib\u001b[0m\u001b[1;33m.\u001b[0m\u001b[0mcollections\u001b[0m \u001b[1;32mas\u001b[0m \u001b[0mcollections\u001b[0m\u001b[1;33m\u001b[0m\u001b[1;33m\u001b[0m\u001b[0m\n\u001b[0m\u001b[0;32m     30\u001b[0m \u001b[1;32mimport\u001b[0m \u001b[0mmatplotlib\u001b[0m\u001b[1;33m.\u001b[0m\u001b[0mcolors\u001b[0m \u001b[1;32mas\u001b[0m \u001b[0mcolors\u001b[0m\u001b[1;33m\u001b[0m\u001b[1;33m\u001b[0m\u001b[0m\n\u001b[0;32m     31\u001b[0m \u001b[1;32mimport\u001b[0m \u001b[0mmatplotlib\u001b[0m\u001b[1;33m.\u001b[0m\u001b[0mcontour\u001b[0m \u001b[1;32mas\u001b[0m \u001b[0mcontour\u001b[0m\u001b[1;33m\u001b[0m\u001b[1;33m\u001b[0m\u001b[0m\n",
      "\u001b[1;32mF:\\Users\\Conda\\DSDefault\\lib\\site-packages\\matplotlib\\collections.py\u001b[0m in \u001b[0;36m<module>\u001b[1;34m\u001b[0m\n\u001b[0;32m     15\u001b[0m \u001b[1;33m\u001b[0m\u001b[0m\n\u001b[0;32m     16\u001b[0m \u001b[1;32mimport\u001b[0m \u001b[0mmatplotlib\u001b[0m \u001b[1;32mas\u001b[0m \u001b[0mmpl\u001b[0m\u001b[1;33m\u001b[0m\u001b[1;33m\u001b[0m\u001b[0m\n\u001b[1;32m---> 17\u001b[1;33m from . import (_path, artist, cbook, cm, colors as mcolors, docstring,\n\u001b[0m\u001b[0;32m     18\u001b[0m                lines as mlines, path as mpath, transforms)\n\u001b[0;32m     19\u001b[0m \u001b[1;32mimport\u001b[0m \u001b[0mwarnings\u001b[0m\u001b[1;33m\u001b[0m\u001b[1;33m\u001b[0m\u001b[0m\n",
      "\u001b[1;32mF:\\Users\\Conda\\DSDefault\\lib\\site-packages\\matplotlib\\cm.py\u001b[0m in \u001b[0;36m<module>\u001b[1;34m\u001b[0m\n\u001b[0;32m     28\u001b[0m \u001b[1;32mimport\u001b[0m \u001b[0mmatplotlib\u001b[0m\u001b[1;33m.\u001b[0m\u001b[0mcbook\u001b[0m \u001b[1;32mas\u001b[0m \u001b[0mcbook\u001b[0m\u001b[1;33m\u001b[0m\u001b[1;33m\u001b[0m\u001b[0m\n\u001b[0;32m     29\u001b[0m \u001b[1;32mfrom\u001b[0m \u001b[0mmatplotlib\u001b[0m\u001b[1;33m.\u001b[0m\u001b[0m_cm\u001b[0m \u001b[1;32mimport\u001b[0m \u001b[0mdatad\u001b[0m\u001b[1;33m\u001b[0m\u001b[1;33m\u001b[0m\u001b[0m\n\u001b[1;32m---> 30\u001b[1;33m \u001b[1;32mfrom\u001b[0m \u001b[0mmatplotlib\u001b[0m\u001b[1;33m.\u001b[0m\u001b[0m_cm_listed\u001b[0m \u001b[1;32mimport\u001b[0m \u001b[0mcmaps\u001b[0m \u001b[1;32mas\u001b[0m \u001b[0mcmaps_listed\u001b[0m\u001b[1;33m\u001b[0m\u001b[1;33m\u001b[0m\u001b[0m\n\u001b[0m\u001b[0;32m     31\u001b[0m \u001b[1;33m\u001b[0m\u001b[0m\n\u001b[0;32m     32\u001b[0m \u001b[1;33m\u001b[0m\u001b[0m\n",
      "\u001b[1;31mImportError\u001b[0m: cannot import name 'cmaps' from 'matplotlib._cm_listed' (F:\\Users\\Conda\\DSDefault\\lib\\site-packages\\matplotlib\\_cm_listed.py)"
     ],
     "ename": "ImportError",
     "evalue": "cannot import name 'cmaps' from 'matplotlib._cm_listed' (F:\\Users\\Conda\\DSDefault\\lib\\site-packages\\matplotlib\\_cm_listed.py)",
     "output_type": "error"
    }
   ],
   "source": [],
   "metadata": {
    "collapsed": false,
    "pycharm": {
     "name": "#%%\n",
     "is_executing": false
    }
   }
  },
  {
   "cell_type": "code",
   "execution_count": 2,
   "outputs": [
    {
     "name": "stderr",
     "text": [
      "F:\\Users\\Conda\\DSDefault\\lib\\site-packages\\numpy\\lib\\arraysetops.py:569: FutureWarning: elementwise comparison failed; returning scalar instead, but in the future will perform elementwise comparison\n  mask |= (ar1 == a)\n"
     ],
     "output_type": "stream"
    }
   ],
   "source": [
    "date_chunks = pd.read_csv(\"F:\\\\Pycharm\\\\SCDS-borchFactory\\\\data\\\\train_date.csv\", index_col=0, chunksize=100000, dtype=np.float32)\n",
    "num_chunks = pd.read_csv(\"F:\\\\Pycharm\\\\SCDS-borchFactory\\\\data\\\\train_numeric.csv\", index_col=0,\n",
    "                         usecols=list(range(969)), chunksize=100000, dtype=np.float32)\n",
    "X = pd.concat([pd.concat([dchunk, nchunk], axis=1).sample(frac=0.05)\n",
    "               for dchunk, nchunk in zip(date_chunks, num_chunks)])\n",
    "y = pd.read_csv(\"F:\\\\Pycharm\\\\SCDS-borchFactory\\\\data\\\\train_numeric.csv\", index_col=0, usecols=[0,969], dtype=np.float32).loc[X.index].values.ravel()\n",
    "X = X.values"
   ],
   "metadata": {
    "collapsed": false,
    "pycharm": {
     "name": "#%%\n",
     "is_executing": false
    }
   }
  },
  {
   "cell_type": "code",
   "execution_count": 3,
   "outputs": [
    {
     "data": {
      "text/plain": "array([[1530.91, 1530.91, 1530.91, ...,     nan,     nan,     nan],\n       [    nan,     nan,     nan, ...,     nan,     nan,     nan],\n       [ 672.65,  672.65,  672.65, ...,     nan,     nan,     nan],\n       ...,\n       [1451.61, 1451.61, 1451.61, ...,    0.  ,    0.  ,    0.  ],\n       [ 912.84,  912.84,  912.84, ...,     nan,     nan,     nan],\n       [    nan,     nan,     nan, ...,    0.  ,    0.  ,    0.  ]],\n      dtype=float32)"
     },
     "metadata": {},
     "output_type": "execute_result",
     "execution_count": 3
    }
   ],
   "source": [
    "X"
   ],
   "metadata": {
    "collapsed": false,
    "pycharm": {
     "name": "#%%\n",
     "is_executing": false
    }
   }
  },
  {
   "cell_type": "code",
   "execution_count": 4,
   "outputs": [
    {
     "name": "stdout",
     "text": [
      "done\n"
     ],
     "output_type": "stream"
    }
   ],
   "source": [
    "print('done')"
   ],
   "metadata": {
    "collapsed": false,
    "pycharm": {
     "name": "#%%\n",
     "is_executing": false
    }
   }
  },
  {
   "cell_type": "code",
   "execution_count": 5,
   "outputs": [
    {
     "data": {
      "text/plain": "XGBClassifier(base_score=0.005, booster='gbtree', colsample_bylevel=1,\n              colsample_bynode=1, colsample_bytree=1, gamma=0,\n              learning_rate=0.1, max_delta_step=0, max_depth=3,\n              min_child_weight=1, missing=None, n_estimators=100, n_jobs=1,\n              nthread=None, objective='binary:logistic', random_state=0,\n              reg_alpha=0, reg_lambda=1, scale_pos_weight=1, seed=None,\n              silent=None, subsample=1, verbosity=1)"
     },
     "metadata": {},
     "output_type": "execute_result",
     "execution_count": 5
    }
   ],
   "source": [
    "clf = XGBClassifier(base_score=0.005)\n",
    "clf.fit(X, y)"
   ],
   "metadata": {
    "collapsed": false,
    "pycharm": {
     "name": "#%%\n",
     "is_executing": false
    }
   }
  },
  {
   "cell_type": "code",
   "execution_count": 65,
   "outputs": [
    {
     "name": "stdout",
     "text": [
      "[ 883  948 1018 1019 1056 1160 1173 1183 1193 1222 1227 1245 1282 1298\n 1480 1512 1516 1549 1550 1893 1897 1921 1925 1968 1970 2007 2010 2020\n 2022 2040 2067 2100]\n"
     ],
     "output_type": "stream"
    }
   ],
   "source": [
    "#plt.hist(clf.feature_importances_[clf.feature_importances_>0])\n",
    "important_indices = np.where(clf.feature_importances_>0.005)[0]\n",
    "print(important_indices)"
   ],
   "metadata": {
    "collapsed": false,
    "pycharm": {
     "name": "#%%\n",
     "is_executing": false
    }
   }
  },
  {
   "cell_type": "code",
   "execution_count": null,
   "outputs": [],
   "source": [
    "# load entire dataset for these features. \n",
    "# note where the feature indices are split so we can load the correct ones straight from read_csv\n",
    "n_date_features = 1156\n",
    "X = np.concatenate([\n",
    "    pd.read_csv(\"../input/train_date.csv\", index_col=0, dtype=np.float32,\n",
    "                usecols=np.concatenate([[0], important_indices[important_indices < n_date_features] + 1])).values,\n",
    "    pd.read_csv(\"../input/train_numeric.csv\", index_col=0, dtype=np.float32,\n",
    "                usecols=np.concatenate([[0], important_indices[important_indices >= n_date_features] + 1 - 1156])).values\n",
    "], axis=1)\n",
    "y = pd.read_csv(\"../input/train_numeric.csv\", index_col=0, dtype=np.float32, usecols=[0,969]).values.ravel()"
   ],
   "metadata": {
    "collapsed": false,
    "pycharm": {
     "name": "#%%\n",
     "is_executing": false
    }
   }
  },
  {
   "cell_type": "code",
   "execution_count": 58,
   "outputs": [
    {
     "name": "stdout",
     "text": [
      "(59187, 2124)\n"
     ],
     "output_type": "stream"
    }
   ],
   "source": [
    "print(X.shape)"
   ],
   "metadata": {
    "collapsed": false,
    "pycharm": {
     "name": "#%%\n",
     "is_executing": false
    }
   }
  },
  {
   "cell_type": "code",
   "execution_count": 42,
   "outputs": [],
   "source": [
    "from sklearn.model_selection import StratifiedKFold\n",
    "clf = XGBClassifier(max_depth=5, base_score=0.005)\n",
    "cv = StratifiedKFold(n_splits=3, shuffle=False,random_state=None)\n",
    "preds = np.ones(y.shape[0])"
   ],
   "metadata": {
    "collapsed": false,
    "pycharm": {
     "name": "#%%\n",
     "is_executing": false
    }
   }
  },
  {
   "cell_type": "code",
   "execution_count": 61,
   "outputs": [
    {
     "name": "stdout",
     "text": [
      "fold [11683 11761 11840 ... 59184 59185 59186], ROC AUC: 0.671\n",
      "fold [11683 11761 11840 ... 59184 59185 59186], ROC AUC: 0.662\n",
      "fold [11683 11761 11840 ... 59184 59185 59186], ROC AUC: 0.667\n",
      "fold [11683 11761 11840 ... 59184 59185 59186], ROC AUC: 0.733\n",
      "fold [11683 11761 11840 ... 59184 59185 59186], ROC AUC: 0.654\n0.6768796519631072\n"
     ],
     "output_type": "stream"
    }
   ],
   "source": [
    "for (train, test) in cv.split(X,y):\n",
    "    preds[test] = clf.fit(X[train], y[train]).predict_proba(X[test])[:,1]\n",
    "    print(\"fold {}, ROC AUC: {:.3f}\".format(roc_auc_score(y[test], preds[test])))\n",
    "print(roc_auc_score(y, preds))"
   ],
   "metadata": {
    "collapsed": false,
    "pycharm": {
     "name": "#%%\n",
     "is_executing": false
    }
   }
  },
  {
   "cell_type": "code",
   "execution_count": 62,
   "outputs": [
    {
     "name": "stderr",
     "text": [
      "F:\\Users\\Conda\\DSDefault\\lib\\site-packages\\sklearn\\metrics\\_classification.py:900: RuntimeWarning: invalid value encountered in double_scalars\n  mcc = cov_ytyp / np.sqrt(cov_ytyt * cov_ypyp)\n"
     ],
     "output_type": "stream"
    },
    {
     "name": "stdout",
     "text": [
      "0.1488404342392704\n"
     ],
     "output_type": "stream"
    }
   ],
   "source": [
    "# pick the best threshold out-of-fold\n",
    "thresholds = np.linspace(0.01, 0.99, 50)\n",
    "mcc = np.array([matthews_corrcoef(y, preds>thr) for thr in thresholds])\n",
    "#plt.plot(thresholds, mcc)\n",
    "best_threshold = thresholds[mcc.argmax()]\n",
    "print(mcc.max())"
   ],
   "metadata": {
    "collapsed": false,
    "pycharm": {
     "name": "#%%\n",
     "is_executing": false
    }
   }
  },
  {
   "cell_type": "code",
   "execution_count": 75,
   "outputs": [],
   "source": [
    "# load test data\n",
    "X = np.concatenate([\n",
    "    pd.read_csv(\"F:\\\\Pycharm\\\\SCDS-borchFactory\\\\data\\\\test_date.csv\", index_col=0, dtype=np.float32,\n",
    "                usecols=np.concatenate([[0], important_indices[important_indices<1156]+1])).values,\n",
    "    pd.read_csv(\"F:\\\\Pycharm\\\\SCDS-borchFactory\\\\data\\\\test_numeric.csv\", index_col=0, dtype=np.float32,\n",
    "                usecols=np.concatenate([[0], important_indices[important_indices>=1156] +1 - 1156])).values\n",
    "], axis=1)"
   ],
   "metadata": {
    "collapsed": false,
    "pycharm": {
     "name": "#%%\n",
     "is_executing": false
    }
   }
  },
  {
   "cell_type": "code",
   "execution_count": 76,
   "outputs": [
    {
     "data": {
      "text/plain": "1183748"
     },
     "metadata": {},
     "output_type": "execute_result",
     "execution_count": 76
    }
   ],
   "source": [
    "len(X)"
   ],
   "metadata": {
    "collapsed": false,
    "pycharm": {
     "name": "#%%\n",
     "is_executing": false
    }
   }
  },
  {
   "cell_type": "code",
   "execution_count": 77,
   "outputs": [
    {
     "traceback": [
      "\u001b[1;31m---------------------------------------------------------------------------\u001b[0m",
      "\u001b[1;31mValueError\u001b[0m                                Traceback (most recent call last)",
      "\u001b[1;32m<ipython-input-77-d80f4057f588>\u001b[0m in \u001b[0;36m<module>\u001b[1;34m\u001b[0m\n\u001b[0;32m      1\u001b[0m \u001b[1;31m# generate predictions at the chosen threshold\u001b[0m\u001b[1;33m\u001b[0m\u001b[1;33m\u001b[0m\u001b[1;33m\u001b[0m\u001b[0m\n\u001b[1;32m----> 2\u001b[1;33m \u001b[0mpreds\u001b[0m \u001b[1;33m=\u001b[0m \u001b[1;33m(\u001b[0m\u001b[0mclf\u001b[0m\u001b[1;33m.\u001b[0m\u001b[0mpredict_proba\u001b[0m\u001b[1;33m(\u001b[0m\u001b[0mX\u001b[0m\u001b[1;33m)\u001b[0m\u001b[1;33m[\u001b[0m\u001b[1;33m:\u001b[0m\u001b[1;33m,\u001b[0m\u001b[1;36m1\u001b[0m\u001b[1;33m]\u001b[0m \u001b[1;33m>\u001b[0m \u001b[0mbest_threshold\u001b[0m\u001b[1;33m)\u001b[0m\u001b[1;33m.\u001b[0m\u001b[0mastype\u001b[0m\u001b[1;33m(\u001b[0m\u001b[0mnp\u001b[0m\u001b[1;33m.\u001b[0m\u001b[0mint8\u001b[0m\u001b[1;33m)\u001b[0m\u001b[1;33m\u001b[0m\u001b[1;33m\u001b[0m\u001b[0m\n\u001b[0m\u001b[0;32m      3\u001b[0m \u001b[1;33m\u001b[0m\u001b[0m\n",
      "\u001b[1;32mF:\\Users\\Conda\\DSDefault\\lib\\site-packages\\xgboost\\sklearn.py\u001b[0m in \u001b[0;36mpredict_proba\u001b[1;34m(self, data, ntree_limit, validate_features)\u001b[0m\n\u001b[0;32m    832\u001b[0m         class_probs = self.get_booster().predict(test_dmatrix,\n\u001b[0;32m    833\u001b[0m                                                  \u001b[0mntree_limit\u001b[0m\u001b[1;33m=\u001b[0m\u001b[0mntree_limit\u001b[0m\u001b[1;33m,\u001b[0m\u001b[1;33m\u001b[0m\u001b[1;33m\u001b[0m\u001b[0m\n\u001b[1;32m--> 834\u001b[1;33m                                                  validate_features=validate_features)\n\u001b[0m\u001b[0;32m    835\u001b[0m         \u001b[1;32mif\u001b[0m \u001b[0mself\u001b[0m\u001b[1;33m.\u001b[0m\u001b[0mobjective\u001b[0m \u001b[1;33m==\u001b[0m \u001b[1;34m\"multi:softprob\"\u001b[0m\u001b[1;33m:\u001b[0m\u001b[1;33m\u001b[0m\u001b[1;33m\u001b[0m\u001b[0m\n\u001b[0;32m    836\u001b[0m             \u001b[1;32mreturn\u001b[0m \u001b[0mclass_probs\u001b[0m\u001b[1;33m\u001b[0m\u001b[1;33m\u001b[0m\u001b[0m\n",
      "\u001b[1;32mF:\\Users\\Conda\\DSDefault\\lib\\site-packages\\xgboost\\core.py\u001b[0m in \u001b[0;36mpredict\u001b[1;34m(self, data, output_margin, ntree_limit, pred_leaf, pred_contribs, approx_contribs, pred_interactions, validate_features)\u001b[0m\n\u001b[0;32m   1282\u001b[0m \u001b[1;33m\u001b[0m\u001b[0m\n\u001b[0;32m   1283\u001b[0m         \u001b[1;32mif\u001b[0m \u001b[0mvalidate_features\u001b[0m\u001b[1;33m:\u001b[0m\u001b[1;33m\u001b[0m\u001b[1;33m\u001b[0m\u001b[0m\n\u001b[1;32m-> 1284\u001b[1;33m             \u001b[0mself\u001b[0m\u001b[1;33m.\u001b[0m\u001b[0m_validate_features\u001b[0m\u001b[1;33m(\u001b[0m\u001b[0mdata\u001b[0m\u001b[1;33m)\u001b[0m\u001b[1;33m\u001b[0m\u001b[1;33m\u001b[0m\u001b[0m\n\u001b[0m\u001b[0;32m   1285\u001b[0m \u001b[1;33m\u001b[0m\u001b[0m\n\u001b[0;32m   1286\u001b[0m         \u001b[0mlength\u001b[0m \u001b[1;33m=\u001b[0m \u001b[0mc_bst_ulong\u001b[0m\u001b[1;33m(\u001b[0m\u001b[1;33m)\u001b[0m\u001b[1;33m\u001b[0m\u001b[1;33m\u001b[0m\u001b[0m\n",
      "\u001b[1;32mF:\\Users\\Conda\\DSDefault\\lib\\site-packages\\xgboost\\core.py\u001b[0m in \u001b[0;36m_validate_features\u001b[1;34m(self, data)\u001b[0m\n\u001b[0;32m   1688\u001b[0m \u001b[1;33m\u001b[0m\u001b[0m\n\u001b[0;32m   1689\u001b[0m                 raise ValueError(msg.format(self.feature_names,\n\u001b[1;32m-> 1690\u001b[1;33m                                             data.feature_names))\n\u001b[0m\u001b[0;32m   1691\u001b[0m \u001b[1;33m\u001b[0m\u001b[0m\n\u001b[0;32m   1692\u001b[0m     \u001b[1;32mdef\u001b[0m \u001b[0mget_split_value_histogram\u001b[0m\u001b[1;33m(\u001b[0m\u001b[0mself\u001b[0m\u001b[1;33m,\u001b[0m \u001b[0mfeature\u001b[0m\u001b[1;33m,\u001b[0m \u001b[0mfmap\u001b[0m\u001b[1;33m=\u001b[0m\u001b[1;34m''\u001b[0m\u001b[1;33m,\u001b[0m \u001b[0mbins\u001b[0m\u001b[1;33m=\u001b[0m\u001b[1;32mNone\u001b[0m\u001b[1;33m,\u001b[0m \u001b[0mas_pandas\u001b[0m\u001b[1;33m=\u001b[0m\u001b[1;32mTrue\u001b[0m\u001b[1;33m)\u001b[0m\u001b[1;33m:\u001b[0m\u001b[1;33m\u001b[0m\u001b[1;33m\u001b[0m\u001b[0m\n",
      "\u001b[1;31mValueError\u001b[0m: feature_names mismatch: ['f0', 'f1', 'f2', 'f3', 'f4', 'f5', 'f6', 'f7', 'f8', 'f9', 'f10', 'f11', 'f12', 'f13', 'f14', 'f15', 'f16', 'f17', 'f18', 'f19', 'f20', 'f21', 'f22', 'f23', 'f24', 'f25', 'f26', 'f27', 'f28', 'f29', 'f30', 'f31', 'f32', 'f33', 'f34', 'f35', 'f36', 'f37', 'f38', 'f39', 'f40', 'f41', 'f42', 'f43', 'f44', 'f45', 'f46', 'f47', 'f48', 'f49', 'f50', 'f51', 'f52', 'f53', 'f54', 'f55', 'f56', 'f57', 'f58', 'f59', 'f60', 'f61', 'f62', 'f63', 'f64', 'f65', 'f66', 'f67', 'f68', 'f69', 'f70', 'f71', 'f72', 'f73', 'f74', 'f75', 'f76', 'f77', 'f78', 'f79', 'f80', 'f81', 'f82', 'f83', 'f84', 'f85', 'f86', 'f87', 'f88', 'f89', 'f90', 'f91', 'f92', 'f93', 'f94', 'f95', 'f96', 'f97', 'f98', 'f99', 'f100', 'f101', 'f102', 'f103', 'f104', 'f105', 'f106', 'f107', 'f108', 'f109', 'f110', 'f111', 'f112', 'f113', 'f114', 'f115', 'f116', 'f117', 'f118', 'f119', 'f120', 'f121', 'f122', 'f123', 'f124', 'f125', 'f126', 'f127', 'f128', 'f129', 'f130', 'f131', 'f132', 'f133', 'f134', 'f135', 'f136', 'f137', 'f138', 'f139', 'f140', 'f141', 'f142', 'f143', 'f144', 'f145', 'f146', 'f147', 'f148', 'f149', 'f150', 'f151', 'f152', 'f153', 'f154', 'f155', 'f156', 'f157', 'f158', 'f159', 'f160', 'f161', 'f162', 'f163', 'f164', 'f165', 'f166', 'f167', 'f168', 'f169', 'f170', 'f171', 'f172', 'f173', 'f174', 'f175', 'f176', 'f177', 'f178', 'f179', 'f180', 'f181', 'f182', 'f183', 'f184', 'f185', 'f186', 'f187', 'f188', 'f189', 'f190', 'f191', 'f192', 'f193', 'f194', 'f195', 'f196', 'f197', 'f198', 'f199', 'f200', 'f201', 'f202', 'f203', 'f204', 'f205', 'f206', 'f207', 'f208', 'f209', 'f210', 'f211', 'f212', 'f213', 'f214', 'f215', 'f216', 'f217', 'f218', 'f219', 'f220', 'f221', 'f222', 'f223', 'f224', 'f225', 'f226', 'f227', 'f228', 'f229', 'f230', 'f231', 'f232', 'f233', 'f234', 'f235', 'f236', 'f237', 'f238', 'f239', 'f240', 'f241', 'f242', 'f243', 'f244', 'f245', 'f246', 'f247', 'f248', 'f249', 'f250', 'f251', 'f252', 'f253', 'f254', 'f255', 'f256', 'f257', 'f258', 'f259', 'f260', 'f261', 'f262', 'f263', 'f264', 'f265', 'f266', 'f267', 'f268', 'f269', 'f270', 'f271', 'f272', 'f273', 'f274', 'f275', 'f276', 'f277', 'f278', 'f279', 'f280', 'f281', 'f282', 'f283', 'f284', 'f285', 'f286', 'f287', 'f288', 'f289', 'f290', 'f291', 'f292', 'f293', 'f294', 'f295', 'f296', 'f297', 'f298', 'f299', 'f300', 'f301', 'f302', 'f303', 'f304', 'f305', 'f306', 'f307', 'f308', 'f309', 'f310', 'f311', 'f312', 'f313', 'f314', 'f315', 'f316', 'f317', 'f318', 'f319', 'f320', 'f321', 'f322', 'f323', 'f324', 'f325', 'f326', 'f327', 'f328', 'f329', 'f330', 'f331', 'f332', 'f333', 'f334', 'f335', 'f336', 'f337', 'f338', 'f339', 'f340', 'f341', 'f342', 'f343', 'f344', 'f345', 'f346', 'f347', 'f348', 'f349', 'f350', 'f351', 'f352', 'f353', 'f354', 'f355', 'f356', 'f357', 'f358', 'f359', 'f360', 'f361', 'f362', 'f363', 'f364', 'f365', 'f366', 'f367', 'f368', 'f369', 'f370', 'f371', 'f372', 'f373', 'f374', 'f375', 'f376', 'f377', 'f378', 'f379', 'f380', 'f381', 'f382', 'f383', 'f384', 'f385', 'f386', 'f387', 'f388', 'f389', 'f390', 'f391', 'f392', 'f393', 'f394', 'f395', 'f396', 'f397', 'f398', 'f399', 'f400', 'f401', 'f402', 'f403', 'f404', 'f405', 'f406', 'f407', 'f408', 'f409', 'f410', 'f411', 'f412', 'f413', 'f414', 'f415', 'f416', 'f417', 'f418', 'f419', 'f420', 'f421', 'f422', 'f423', 'f424', 'f425', 'f426', 'f427', 'f428', 'f429', 'f430', 'f431', 'f432', 'f433', 'f434', 'f435', 'f436', 'f437', 'f438', 'f439', 'f440', 'f441', 'f442', 'f443', 'f444', 'f445', 'f446', 'f447', 'f448', 'f449', 'f450', 'f451', 'f452', 'f453', 'f454', 'f455', 'f456', 'f457', 'f458', 'f459', 'f460', 'f461', 'f462', 'f463', 'f464', 'f465', 'f466', 'f467', 'f468', 'f469', 'f470', 'f471', 'f472', 'f473', 'f474', 'f475', 'f476', 'f477', 'f478', 'f479', 'f480', 'f481', 'f482', 'f483', 'f484', 'f485', 'f486', 'f487', 'f488', 'f489', 'f490', 'f491', 'f492', 'f493', 'f494', 'f495', 'f496', 'f497', 'f498', 'f499', 'f500', 'f501', 'f502', 'f503', 'f504', 'f505', 'f506', 'f507', 'f508', 'f509', 'f510', 'f511', 'f512', 'f513', 'f514', 'f515', 'f516', 'f517', 'f518', 'f519', 'f520', 'f521', 'f522', 'f523', 'f524', 'f525', 'f526', 'f527', 'f528', 'f529', 'f530', 'f531', 'f532', 'f533', 'f534', 'f535', 'f536', 'f537', 'f538', 'f539', 'f540', 'f541', 'f542', 'f543', 'f544', 'f545', 'f546', 'f547', 'f548', 'f549', 'f550', 'f551', 'f552', 'f553', 'f554', 'f555', 'f556', 'f557', 'f558', 'f559', 'f560', 'f561', 'f562', 'f563', 'f564', 'f565', 'f566', 'f567', 'f568', 'f569', 'f570', 'f571', 'f572', 'f573', 'f574', 'f575', 'f576', 'f577', 'f578', 'f579', 'f580', 'f581', 'f582', 'f583', 'f584', 'f585', 'f586', 'f587', 'f588', 'f589', 'f590', 'f591', 'f592', 'f593', 'f594', 'f595', 'f596', 'f597', 'f598', 'f599', 'f600', 'f601', 'f602', 'f603', 'f604', 'f605', 'f606', 'f607', 'f608', 'f609', 'f610', 'f611', 'f612', 'f613', 'f614', 'f615', 'f616', 'f617', 'f618', 'f619', 'f620', 'f621', 'f622', 'f623', 'f624', 'f625', 'f626', 'f627', 'f628', 'f629', 'f630', 'f631', 'f632', 'f633', 'f634', 'f635', 'f636', 'f637', 'f638', 'f639', 'f640', 'f641', 'f642', 'f643', 'f644', 'f645', 'f646', 'f647', 'f648', 'f649', 'f650', 'f651', 'f652', 'f653', 'f654', 'f655', 'f656', 'f657', 'f658', 'f659', 'f660', 'f661', 'f662', 'f663', 'f664', 'f665', 'f666', 'f667', 'f668', 'f669', 'f670', 'f671', 'f672', 'f673', 'f674', 'f675', 'f676', 'f677', 'f678', 'f679', 'f680', 'f681', 'f682', 'f683', 'f684', 'f685', 'f686', 'f687', 'f688', 'f689', 'f690', 'f691', 'f692', 'f693', 'f694', 'f695', 'f696', 'f697', 'f698', 'f699', 'f700', 'f701', 'f702', 'f703', 'f704', 'f705', 'f706', 'f707', 'f708', 'f709', 'f710', 'f711', 'f712', 'f713', 'f714', 'f715', 'f716', 'f717', 'f718', 'f719', 'f720', 'f721', 'f722', 'f723', 'f724', 'f725', 'f726', 'f727', 'f728', 'f729', 'f730', 'f731', 'f732', 'f733', 'f734', 'f735', 'f736', 'f737', 'f738', 'f739', 'f740', 'f741', 'f742', 'f743', 'f744', 'f745', 'f746', 'f747', 'f748', 'f749', 'f750', 'f751', 'f752', 'f753', 'f754', 'f755', 'f756', 'f757', 'f758', 'f759', 'f760', 'f761', 'f762', 'f763', 'f764', 'f765', 'f766', 'f767', 'f768', 'f769', 'f770', 'f771', 'f772', 'f773', 'f774', 'f775', 'f776', 'f777', 'f778', 'f779', 'f780', 'f781', 'f782', 'f783', 'f784', 'f785', 'f786', 'f787', 'f788', 'f789', 'f790', 'f791', 'f792', 'f793', 'f794', 'f795', 'f796', 'f797', 'f798', 'f799', 'f800', 'f801', 'f802', 'f803', 'f804', 'f805', 'f806', 'f807', 'f808', 'f809', 'f810', 'f811', 'f812', 'f813', 'f814', 'f815', 'f816', 'f817', 'f818', 'f819', 'f820', 'f821', 'f822', 'f823', 'f824', 'f825', 'f826', 'f827', 'f828', 'f829', 'f830', 'f831', 'f832', 'f833', 'f834', 'f835', 'f836', 'f837', 'f838', 'f839', 'f840', 'f841', 'f842', 'f843', 'f844', 'f845', 'f846', 'f847', 'f848', 'f849', 'f850', 'f851', 'f852', 'f853', 'f854', 'f855', 'f856', 'f857', 'f858', 'f859', 'f860', 'f861', 'f862', 'f863', 'f864', 'f865', 'f866', 'f867', 'f868', 'f869', 'f870', 'f871', 'f872', 'f873', 'f874', 'f875', 'f876', 'f877', 'f878', 'f879', 'f880', 'f881', 'f882', 'f883', 'f884', 'f885', 'f886', 'f887', 'f888', 'f889', 'f890', 'f891', 'f892', 'f893', 'f894', 'f895', 'f896', 'f897', 'f898', 'f899', 'f900', 'f901', 'f902', 'f903', 'f904', 'f905', 'f906', 'f907', 'f908', 'f909', 'f910', 'f911', 'f912', 'f913', 'f914', 'f915', 'f916', 'f917', 'f918', 'f919', 'f920', 'f921', 'f922', 'f923', 'f924', 'f925', 'f926', 'f927', 'f928', 'f929', 'f930', 'f931', 'f932', 'f933', 'f934', 'f935', 'f936', 'f937', 'f938', 'f939', 'f940', 'f941', 'f942', 'f943', 'f944', 'f945', 'f946', 'f947', 'f948', 'f949', 'f950', 'f951', 'f952', 'f953', 'f954', 'f955', 'f956', 'f957', 'f958', 'f959', 'f960', 'f961', 'f962', 'f963', 'f964', 'f965', 'f966', 'f967', 'f968', 'f969', 'f970', 'f971', 'f972', 'f973', 'f974', 'f975', 'f976', 'f977', 'f978', 'f979', 'f980', 'f981', 'f982', 'f983', 'f984', 'f985', 'f986', 'f987', 'f988', 'f989', 'f990', 'f991', 'f992', 'f993', 'f994', 'f995', 'f996', 'f997', 'f998', 'f999', 'f1000', 'f1001', 'f1002', 'f1003', 'f1004', 'f1005', 'f1006', 'f1007', 'f1008', 'f1009', 'f1010', 'f1011', 'f1012', 'f1013', 'f1014', 'f1015', 'f1016', 'f1017', 'f1018', 'f1019', 'f1020', 'f1021', 'f1022', 'f1023', 'f1024', 'f1025', 'f1026', 'f1027', 'f1028', 'f1029', 'f1030', 'f1031', 'f1032', 'f1033', 'f1034', 'f1035', 'f1036', 'f1037', 'f1038', 'f1039', 'f1040', 'f1041', 'f1042', 'f1043', 'f1044', 'f1045', 'f1046', 'f1047', 'f1048', 'f1049', 'f1050', 'f1051', 'f1052', 'f1053', 'f1054', 'f1055', 'f1056', 'f1057', 'f1058', 'f1059', 'f1060', 'f1061', 'f1062', 'f1063', 'f1064', 'f1065', 'f1066', 'f1067', 'f1068', 'f1069', 'f1070', 'f1071', 'f1072', 'f1073', 'f1074', 'f1075', 'f1076', 'f1077', 'f1078', 'f1079', 'f1080', 'f1081', 'f1082', 'f1083', 'f1084', 'f1085', 'f1086', 'f1087', 'f1088', 'f1089', 'f1090', 'f1091', 'f1092', 'f1093', 'f1094', 'f1095', 'f1096', 'f1097', 'f1098', 'f1099', 'f1100', 'f1101', 'f1102', 'f1103', 'f1104', 'f1105', 'f1106', 'f1107', 'f1108', 'f1109', 'f1110', 'f1111', 'f1112', 'f1113', 'f1114', 'f1115', 'f1116', 'f1117', 'f1118', 'f1119', 'f1120', 'f1121', 'f1122', 'f1123', 'f1124', 'f1125', 'f1126', 'f1127', 'f1128', 'f1129', 'f1130', 'f1131', 'f1132', 'f1133', 'f1134', 'f1135', 'f1136', 'f1137', 'f1138', 'f1139', 'f1140', 'f1141', 'f1142', 'f1143', 'f1144', 'f1145', 'f1146', 'f1147', 'f1148', 'f1149', 'f1150', 'f1151', 'f1152', 'f1153', 'f1154', 'f1155', 'f1156', 'f1157', 'f1158', 'f1159', 'f1160', 'f1161', 'f1162', 'f1163', 'f1164', 'f1165', 'f1166', 'f1167', 'f1168', 'f1169', 'f1170', 'f1171', 'f1172', 'f1173', 'f1174', 'f1175', 'f1176', 'f1177', 'f1178', 'f1179', 'f1180', 'f1181', 'f1182', 'f1183', 'f1184', 'f1185', 'f1186', 'f1187', 'f1188', 'f1189', 'f1190', 'f1191', 'f1192', 'f1193', 'f1194', 'f1195', 'f1196', 'f1197', 'f1198', 'f1199', 'f1200', 'f1201', 'f1202', 'f1203', 'f1204', 'f1205', 'f1206', 'f1207', 'f1208', 'f1209', 'f1210', 'f1211', 'f1212', 'f1213', 'f1214', 'f1215', 'f1216', 'f1217', 'f1218', 'f1219', 'f1220', 'f1221', 'f1222', 'f1223', 'f1224', 'f1225', 'f1226', 'f1227', 'f1228', 'f1229', 'f1230', 'f1231', 'f1232', 'f1233', 'f1234', 'f1235', 'f1236', 'f1237', 'f1238', 'f1239', 'f1240', 'f1241', 'f1242', 'f1243', 'f1244', 'f1245', 'f1246', 'f1247', 'f1248', 'f1249', 'f1250', 'f1251', 'f1252', 'f1253', 'f1254', 'f1255', 'f1256', 'f1257', 'f1258', 'f1259', 'f1260', 'f1261', 'f1262', 'f1263', 'f1264', 'f1265', 'f1266', 'f1267', 'f1268', 'f1269', 'f1270', 'f1271', 'f1272', 'f1273', 'f1274', 'f1275', 'f1276', 'f1277', 'f1278', 'f1279', 'f1280', 'f1281', 'f1282', 'f1283', 'f1284', 'f1285', 'f1286', 'f1287', 'f1288', 'f1289', 'f1290', 'f1291', 'f1292', 'f1293', 'f1294', 'f1295', 'f1296', 'f1297', 'f1298', 'f1299', 'f1300', 'f1301', 'f1302', 'f1303', 'f1304', 'f1305', 'f1306', 'f1307', 'f1308', 'f1309', 'f1310', 'f1311', 'f1312', 'f1313', 'f1314', 'f1315', 'f1316', 'f1317', 'f1318', 'f1319', 'f1320', 'f1321', 'f1322', 'f1323', 'f1324', 'f1325', 'f1326', 'f1327', 'f1328', 'f1329', 'f1330', 'f1331', 'f1332', 'f1333', 'f1334', 'f1335', 'f1336', 'f1337', 'f1338', 'f1339', 'f1340', 'f1341', 'f1342', 'f1343', 'f1344', 'f1345', 'f1346', 'f1347', 'f1348', 'f1349', 'f1350', 'f1351', 'f1352', 'f1353', 'f1354', 'f1355', 'f1356', 'f1357', 'f1358', 'f1359', 'f1360', 'f1361', 'f1362', 'f1363', 'f1364', 'f1365', 'f1366', 'f1367', 'f1368', 'f1369', 'f1370', 'f1371', 'f1372', 'f1373', 'f1374', 'f1375', 'f1376', 'f1377', 'f1378', 'f1379', 'f1380', 'f1381', 'f1382', 'f1383', 'f1384', 'f1385', 'f1386', 'f1387', 'f1388', 'f1389', 'f1390', 'f1391', 'f1392', 'f1393', 'f1394', 'f1395', 'f1396', 'f1397', 'f1398', 'f1399', 'f1400', 'f1401', 'f1402', 'f1403', 'f1404', 'f1405', 'f1406', 'f1407', 'f1408', 'f1409', 'f1410', 'f1411', 'f1412', 'f1413', 'f1414', 'f1415', 'f1416', 'f1417', 'f1418', 'f1419', 'f1420', 'f1421', 'f1422', 'f1423', 'f1424', 'f1425', 'f1426', 'f1427', 'f1428', 'f1429', 'f1430', 'f1431', 'f1432', 'f1433', 'f1434', 'f1435', 'f1436', 'f1437', 'f1438', 'f1439', 'f1440', 'f1441', 'f1442', 'f1443', 'f1444', 'f1445', 'f1446', 'f1447', 'f1448', 'f1449', 'f1450', 'f1451', 'f1452', 'f1453', 'f1454', 'f1455', 'f1456', 'f1457', 'f1458', 'f1459', 'f1460', 'f1461', 'f1462', 'f1463', 'f1464', 'f1465', 'f1466', 'f1467', 'f1468', 'f1469', 'f1470', 'f1471', 'f1472', 'f1473', 'f1474', 'f1475', 'f1476', 'f1477', 'f1478', 'f1479', 'f1480', 'f1481', 'f1482', 'f1483', 'f1484', 'f1485', 'f1486', 'f1487', 'f1488', 'f1489', 'f1490', 'f1491', 'f1492', 'f1493', 'f1494', 'f1495', 'f1496', 'f1497', 'f1498', 'f1499', 'f1500', 'f1501', 'f1502', 'f1503', 'f1504', 'f1505', 'f1506', 'f1507', 'f1508', 'f1509', 'f1510', 'f1511', 'f1512', 'f1513', 'f1514', 'f1515', 'f1516', 'f1517', 'f1518', 'f1519', 'f1520', 'f1521', 'f1522', 'f1523', 'f1524', 'f1525', 'f1526', 'f1527', 'f1528', 'f1529', 'f1530', 'f1531', 'f1532', 'f1533', 'f1534', 'f1535', 'f1536', 'f1537', 'f1538', 'f1539', 'f1540', 'f1541', 'f1542', 'f1543', 'f1544', 'f1545', 'f1546', 'f1547', 'f1548', 'f1549', 'f1550', 'f1551', 'f1552', 'f1553', 'f1554', 'f1555', 'f1556', 'f1557', 'f1558', 'f1559', 'f1560', 'f1561', 'f1562', 'f1563', 'f1564', 'f1565', 'f1566', 'f1567', 'f1568', 'f1569', 'f1570', 'f1571', 'f1572', 'f1573', 'f1574', 'f1575', 'f1576', 'f1577', 'f1578', 'f1579', 'f1580', 'f1581', 'f1582', 'f1583', 'f1584', 'f1585', 'f1586', 'f1587', 'f1588', 'f1589', 'f1590', 'f1591', 'f1592', 'f1593', 'f1594', 'f1595', 'f1596', 'f1597', 'f1598', 'f1599', 'f1600', 'f1601', 'f1602', 'f1603', 'f1604', 'f1605', 'f1606', 'f1607', 'f1608', 'f1609', 'f1610', 'f1611', 'f1612', 'f1613', 'f1614', 'f1615', 'f1616', 'f1617', 'f1618', 'f1619', 'f1620', 'f1621', 'f1622', 'f1623', 'f1624', 'f1625', 'f1626', 'f1627', 'f1628', 'f1629', 'f1630', 'f1631', 'f1632', 'f1633', 'f1634', 'f1635', 'f1636', 'f1637', 'f1638', 'f1639', 'f1640', 'f1641', 'f1642', 'f1643', 'f1644', 'f1645', 'f1646', 'f1647', 'f1648', 'f1649', 'f1650', 'f1651', 'f1652', 'f1653', 'f1654', 'f1655', 'f1656', 'f1657', 'f1658', 'f1659', 'f1660', 'f1661', 'f1662', 'f1663', 'f1664', 'f1665', 'f1666', 'f1667', 'f1668', 'f1669', 'f1670', 'f1671', 'f1672', 'f1673', 'f1674', 'f1675', 'f1676', 'f1677', 'f1678', 'f1679', 'f1680', 'f1681', 'f1682', 'f1683', 'f1684', 'f1685', 'f1686', 'f1687', 'f1688', 'f1689', 'f1690', 'f1691', 'f1692', 'f1693', 'f1694', 'f1695', 'f1696', 'f1697', 'f1698', 'f1699', 'f1700', 'f1701', 'f1702', 'f1703', 'f1704', 'f1705', 'f1706', 'f1707', 'f1708', 'f1709', 'f1710', 'f1711', 'f1712', 'f1713', 'f1714', 'f1715', 'f1716', 'f1717', 'f1718', 'f1719', 'f1720', 'f1721', 'f1722', 'f1723', 'f1724', 'f1725', 'f1726', 'f1727', 'f1728', 'f1729', 'f1730', 'f1731', 'f1732', 'f1733', 'f1734', 'f1735', 'f1736', 'f1737', 'f1738', 'f1739', 'f1740', 'f1741', 'f1742', 'f1743', 'f1744', 'f1745', 'f1746', 'f1747', 'f1748', 'f1749', 'f1750', 'f1751', 'f1752', 'f1753', 'f1754', 'f1755', 'f1756', 'f1757', 'f1758', 'f1759', 'f1760', 'f1761', 'f1762', 'f1763', 'f1764', 'f1765', 'f1766', 'f1767', 'f1768', 'f1769', 'f1770', 'f1771', 'f1772', 'f1773', 'f1774', 'f1775', 'f1776', 'f1777', 'f1778', 'f1779', 'f1780', 'f1781', 'f1782', 'f1783', 'f1784', 'f1785', 'f1786', 'f1787', 'f1788', 'f1789', 'f1790', 'f1791', 'f1792', 'f1793', 'f1794', 'f1795', 'f1796', 'f1797', 'f1798', 'f1799', 'f1800', 'f1801', 'f1802', 'f1803', 'f1804', 'f1805', 'f1806', 'f1807', 'f1808', 'f1809', 'f1810', 'f1811', 'f1812', 'f1813', 'f1814', 'f1815', 'f1816', 'f1817', 'f1818', 'f1819', 'f1820', 'f1821', 'f1822', 'f1823', 'f1824', 'f1825', 'f1826', 'f1827', 'f1828', 'f1829', 'f1830', 'f1831', 'f1832', 'f1833', 'f1834', 'f1835', 'f1836', 'f1837', 'f1838', 'f1839', 'f1840', 'f1841', 'f1842', 'f1843', 'f1844', 'f1845', 'f1846', 'f1847', 'f1848', 'f1849', 'f1850', 'f1851', 'f1852', 'f1853', 'f1854', 'f1855', 'f1856', 'f1857', 'f1858', 'f1859', 'f1860', 'f1861', 'f1862', 'f1863', 'f1864', 'f1865', 'f1866', 'f1867', 'f1868', 'f1869', 'f1870', 'f1871', 'f1872', 'f1873', 'f1874', 'f1875', 'f1876', 'f1877', 'f1878', 'f1879', 'f1880', 'f1881', 'f1882', 'f1883', 'f1884', 'f1885', 'f1886', 'f1887', 'f1888', 'f1889', 'f1890', 'f1891', 'f1892', 'f1893', 'f1894', 'f1895', 'f1896', 'f1897', 'f1898', 'f1899', 'f1900', 'f1901', 'f1902', 'f1903', 'f1904', 'f1905', 'f1906', 'f1907', 'f1908', 'f1909', 'f1910', 'f1911', 'f1912', 'f1913', 'f1914', 'f1915', 'f1916', 'f1917', 'f1918', 'f1919', 'f1920', 'f1921', 'f1922', 'f1923', 'f1924', 'f1925', 'f1926', 'f1927', 'f1928', 'f1929', 'f1930', 'f1931', 'f1932', 'f1933', 'f1934', 'f1935', 'f1936', 'f1937', 'f1938', 'f1939', 'f1940', 'f1941', 'f1942', 'f1943', 'f1944', 'f1945', 'f1946', 'f1947', 'f1948', 'f1949', 'f1950', 'f1951', 'f1952', 'f1953', 'f1954', 'f1955', 'f1956', 'f1957', 'f1958', 'f1959', 'f1960', 'f1961', 'f1962', 'f1963', 'f1964', 'f1965', 'f1966', 'f1967', 'f1968', 'f1969', 'f1970', 'f1971', 'f1972', 'f1973', 'f1974', 'f1975', 'f1976', 'f1977', 'f1978', 'f1979', 'f1980', 'f1981', 'f1982', 'f1983', 'f1984', 'f1985', 'f1986', 'f1987', 'f1988', 'f1989', 'f1990', 'f1991', 'f1992', 'f1993', 'f1994', 'f1995', 'f1996', 'f1997', 'f1998', 'f1999', 'f2000', 'f2001', 'f2002', 'f2003', 'f2004', 'f2005', 'f2006', 'f2007', 'f2008', 'f2009', 'f2010', 'f2011', 'f2012', 'f2013', 'f2014', 'f2015', 'f2016', 'f2017', 'f2018', 'f2019', 'f2020', 'f2021', 'f2022', 'f2023', 'f2024', 'f2025', 'f2026', 'f2027', 'f2028', 'f2029', 'f2030', 'f2031', 'f2032', 'f2033', 'f2034', 'f2035', 'f2036', 'f2037', 'f2038', 'f2039', 'f2040', 'f2041', 'f2042', 'f2043', 'f2044', 'f2045', 'f2046', 'f2047', 'f2048', 'f2049', 'f2050', 'f2051', 'f2052', 'f2053', 'f2054', 'f2055', 'f2056', 'f2057', 'f2058', 'f2059', 'f2060', 'f2061', 'f2062', 'f2063', 'f2064', 'f2065', 'f2066', 'f2067', 'f2068', 'f2069', 'f2070', 'f2071', 'f2072', 'f2073', 'f2074', 'f2075', 'f2076', 'f2077', 'f2078', 'f2079', 'f2080', 'f2081', 'f2082', 'f2083', 'f2084', 'f2085', 'f2086', 'f2087', 'f2088', 'f2089', 'f2090', 'f2091', 'f2092', 'f2093', 'f2094', 'f2095', 'f2096', 'f2097', 'f2098', 'f2099', 'f2100', 'f2101', 'f2102', 'f2103', 'f2104', 'f2105', 'f2106', 'f2107', 'f2108', 'f2109', 'f2110', 'f2111', 'f2112', 'f2113', 'f2114', 'f2115', 'f2116', 'f2117', 'f2118', 'f2119', 'f2120', 'f2121', 'f2122', 'f2123'] ['f0', 'f1', 'f2', 'f3', 'f4', 'f5', 'f6', 'f7', 'f8', 'f9', 'f10', 'f11', 'f12', 'f13', 'f14', 'f15', 'f16', 'f17', 'f18', 'f19', 'f20', 'f21', 'f22', 'f23', 'f24', 'f25', 'f26', 'f27', 'f28', 'f29', 'f30', 'f31']\nexpected f1628, f111, f669, f1001, f1302, f612, f930, f1611, f549, f1729, f303, f192, f741, f580, f1795, f1568, f1624, f1478, f44, f1998, f1124, f1749, f766, f1660, f178, f2033, f1885, f509, f977, f1920, f1398, f147, f355, f2091, f1343, f485, f1559, f280, f363, f550, f97, f697, f1816, f817, f832, f948, f1709, f911, f1822, f718, f491, f2047, f257, f1526, f457, f353, f1637, f1354, f529, f1661, f1702, f1993, f2032, f226, f1610, f1725, f83, f394, f1315, f1967, f1797, f877, f1794, f1851, f325, f1701, f1981, f1371, f546, f581, f1684, f96, f46, f1534, f1317, f839, f42, f2054, f196, f1439, f213, f1167, f1970, f1177, f1357, f93, f179, f494, f520, f1570, f443, f1721, f588, f1236, f1514, f1901, f1598, f1395, f769, f1773, f622, f1944, f1982, f1066, f519, f643, f141, f910, f440, f745, f420, f699, f205, f214, f2014, f555, f1597, f1615, f824, f118, f786, f180, f70, f1122, f39, f1061, f1271, f691, f177, f427, f1957, f1517, f90, f1304, f1662, f630, f1166, f1865, f1975, f944, f1918, f337, f917, f538, f626, f2050, f1448, f575, f238, f1198, f1223, f421, f470, f1458, f1869, f2059, f1445, f464, f1906, f1273, f2096, f574, f350, f450, f462, f1096, f834, f1735, f1118, f2123, f173, f654, f1069, f503, f1259, f1621, f1087, f188, f887, f1688, f679, f775, f645, f721, f2077, f1115, f1176, f1240, f312, f762, f1265, f1410, f1323, f1930, f1284, f1002, f1593, f356, f139, f263, f407, f563, f1469, f1576, f428, f1110, f912, f1639, f873, f784, f809, f1107, f201, f831, f1791, f968, f533, f1209, f362, f121, f710, f1352, f950, f496, f402, f479, f1747, f1189, f169, f2097, f1495, f1216, f1574, f1535, f2065, f1370, f1379, f1237, f528, f1966, f780, f1064, f34, f430, f154, f1523, f754, f635, f1230, f733, f1390, f1675, f2069, f1063, f268, f451, f1113, f562, f1092, f1958, f1558, f1616, f1353, f719, f1979, f1366, f1752, f2102, f1935, f708, f1289, f666, f548, f1482, f903, f510, f904, f2055, f429, f1719, f740, f198, f543, f1467, f1828, f767, f648, f1341, f475, f467, f225, f931, f1409, f68, f1434, f1756, f1101, f1457, f91, f1653, f1055, f2043, f1311, f98, f1518, f365, f184, f249, f818, f1547, f1683, f247, f1527, f1707, f1642, f1632, f387, f652, f1839, f1332, f1109, f966, f1388, f386, f1503, f1433, f1643, f1726, f302, f1524, f601, f1809, f1751, f1512, f1471, f1733, f1134, f1539, f1443, f490, f224, f763, f1898, f35, f1158, f1488, f460, f651, f1767, f207, f1291, f937, f928, f1255, f323, f727, f750, f892, f1575, f670, f1965, f1604, f1472, f478, f642, f239, f1117, f1054, f1486, f1631, f1897, f920, f2109, f984, f1530, f222, f534, f1072, f938, f1777, f1815, f1536, f993, f785, f577, f2100, f168, f1533, f768, f744, f945, f1065, f1742, f1894, f501, f112, f722, f1078, f1232, f1052, f2076, f378, f92, f1219, f1923, f1553, f1680, f1394, f1422, f1147, f2012, f2083, f162, f695, f1334, f288, f258, f295, f561, f1896, f2009, f1548, f58, f1556, f313, f709, f1026, f1071, f640, f698, f795, f1153, f1907, f1382, f1404, f1969, f602, f1449, f1516, f277, f797, f481, f659, f1338, f190, f2120, f1009, f145, f1595, f2017, f799, f1085, f2030, f1285, f2073, f1837, f1250, f2063, f899, f322, f278, f1405, f1432, f600, f1151, f153, f568, f357, f1948, f438, f707, f1267, f1435, f819, f2072, f182, f674, f632, f398, f957, f650, f2005, f1657, f1952, f1141, f405, f1922, f2049, f1318, f1094, f1810, f484, f1358, f86, f334, f1365, f1617, f1727, f1775, f1463, f246, f1614, f185, f1420, f338, f2044, f1474, f1025, f841, f1275, f1796, f1710, f1263, f1954, f1734, f2037, f955, f151, f1374, f1992, f985, f1786, f1532, f1247, f351, f1902, f961, f1723, f1572, f1220, f1018, f1327, f1953, f1504, f715, f262, f743, f2057, f453, f2034, f65, f1133, f1711, f1188, f379, f1577, f1195, f700, f820, f1245, f576, f781, f1067, f108, f764, f117, f129, f572, f863, f181, f1996, f391, f401, f241, f1283, f692, f413, f869, f2060, f52, f1045, f583, f1231, f1587, f314, f1690, f1280, f1591, f1730, f1860, f629, f1007, f1225, f1019, f1904, f469, f813, f321, f895, f953, f414, f770, f1658, f1372, f1036, f1281, f1226, f48, f527, f1013, f1783, f1899, f254, f949, f77, f1921, f1174, f2080, f1442, f1305, f403, f932, f1513, f1808, f2053, f1010, f1033, f2087, f2114, f1589, f584, f109, f688, f1329, f1207, f1194, f633, f631, f146, f848, f711, f2090, f656, f1937, f1048, f444, f232, f1029, f728, f1222, f805, f1056, f1057, f1867, f714, f1102, f1686, f1738, f1453, f1155, f1244, f2079, f1221, f1097, f1406, f613, f693, f1000, f825, f889, f1766, f2013, f865, f1673, f1671, f119, f397, f1988, f882, f1156, f1091, f1330, f1620, f1627, f1095, f864, f1674, f807, f1793, f1676, f404, f160, f731, f736, f720, f324, f1519, f802, f1142, f662, f1090, f1392, f54, f1204, f587, f1484, f790, f1934, f1368, f51, f2018, f844, f1294, f411, f1062, f1120, f199, f1051, f1073, f778, f926, f1152, f1994, f296, f1787, f1128, f1277, f1256, f270, f625, f960, f202, f466, f1213, f1758, f637, f49, f468, f2098, f1313, f1077, f748, f2113, f687, f382, f760, f677, f159, f933, f681, f1413, f372, f544, f875, f448, f1429, f1497, f973, f1889, f488, f1336, f1713, f1878, f455, f1655, f1129, f1750, f69, f1182, f66, f1582, f664, f684, f685, f810, f696, f971, f874, f197, f972, f2119, f1437, f1754, f1562, f2062, f1629, f149, f1208, f110, f1321, f412, f1139, f1215, f1606, f477, f1396, f804, f1602, f854, f1845, f1630, f1569, f2002, f2078, f2040, f189, f311, f1825, f1200, f1991, f292, f1817, f1508, f986, f918, f461, f2089, f408, f163, f1875, f2000, f1403, f1770, f1164, f1170, f377, f849, f1279, f265, f2039, f1342, f1303, f1544, f914, f1079, f1641, f1438, f87, f992, f906, f434, f958, f436, f1667, f1633, f298, f1968, f514, f1608, f1908, f959, f511, f604, f1841, f300, f596, f1254, f729, f1986, f2070, f235, f471, f2099, f779, f1790, f1012, f1609, f703, f512, f976, f252, f1325, f1903, f1931, f1592, f348, f1135, f346, f1473, f761, f872, f723, f1798, f579, f272, f866, f1080, f1695, f560, f554, f176, f310, f1309, f1020, f619, f1927, f1269, f1976, f441, f152, f970, f433, f1612, f1762, f294, f1799, f686, f1694, f330, f1789, f1579, f416, f1460, f1016, f2008, f682, f319, f541, f1228, f513, f1985, f1383, f1011, f994, f1257, f1243, f212, f136, f142, f1099, f1384, f1112, f395, f565, f1393, f1455, f2031, f476, f1249, f1355, f465, f1971, f660, f1035, f43, f890, f1623, f991, f1980, f1145, f749, f1618, f1864, f1916, f1881, f1847, f158, f1037, f1947, f2071, f2105, f1911, f553, f564, f2067, f1027, f127, f1239, f114, f1196, f242, f671, f1882, f206, f981, f668, f566, f1485, f417, f850, f1829, f2027, f1538, f33, f76, f853, f956, f1715, f886, f1699, f861, f1186, f1024, f101, f1119, f1125, f1502, f216, f281, f946, f1876, f661, f166, f1645, f1962, f73, f969, f990, f261, f237, f823, f1039, f452, f753, f446, f1293, f385, f646, f724, f1276, f995, f55, f233, f751, f1926, f1668, f962, f837, f1185, f1233, f1173, f1857, f1652, f1328, f605, f846, f1157, f103, f1910, f1380, f701, f1515, f1811, f1601, f1008, f913, f924, f1175, f569, f1765, f1197, f1202, f1768, f1974, f2024, f1253, f259, f482, f331, f400, f1192, f598, f1081, f901, f1490, f1850, f2004, f524, f137, f370, f1613, f1761, f104, f615, f516, f1745, f975, f1905, f1708, f1895, f1887, f847, f1648, f62, f1347, f1295, f134, f219, f829, f1647, f2035, f791, f2085, f592, f2029, f1444, f1705, f1884, f390, f704, f1956, f50, f1748, f1165, f1132, f1728, f2104, f2010, f1159, f1100, f988, f442, f308, f194, f756, f655, f1712, f1626, f2022, f1386, f1989, f240, f459, f1586, f1084, f1211, f1414, f1588, f2001, f59, f1005, f161, f285, f120, f255, f801, f45, f209, f690, f415, f2021, f996, f965, f228, f204, f1505, f1792, f683, f275, f1879, f347, f1997, f1131, f1872, f40, f215, f676, f798, f37, f897, f1456, f1385, f857, f1050, f1391, f586, f1003, f774, f1108, f369, f229, f284, f336, f2051, f1813, f1178, f148, f1296, f1114, f1193, f1308, f435, f1764, f982, f1480, f425, f941, f393, f552, f74, f1408, f1446, f1127, f1282, f1769, f1874, f1739, f186, f611, f936, f776, f1021, f618, f191, f217, f349, f1924, f1494, f1419, f1656, f1870, f1936, f1169, f782, f78, f293, f132, f220, f658, f1552, f663, f1540, f739, f279, f1261, f1893, f1819, f456, f1858, f1116, f75, f1700, f200, f522, f1528, f187, f830, f1873, f1146, f354, f316, f175, f1262, f366, f987, f1136, f474, f2108, f1831, f1106, f424, f923, f396, f1297, f1861, f1184, f1319, f1636, f495, f1345, f1203, f1928, f1983, f1043, f1596, f2058, f641, f64, f1292, f1399, f1047, f1687, f1820, f487, f705, f1634, f1126, f1465, f167, f231, f1389, f2007, f716, f1669, f174, f1229, f2082, f1913, f1801, f304, f616, f449, f274, f1251, f375, f675, f1781, f811, f1635, f571, f1367, f492, f867, f193, f84, f269, f2041, f1963, f1863, f1871, f888, f1506, f2028, f840, f1190, f497, f1415, f1941, f1830, f852, f128, f1551, f447, f884, f94, f1201, f1348, f1600, f876, f1681, f1241, f1666, f1074, f2011, f2023, f47, f384, f974, f2107, f1689, f1493, f1288, f1555, f1041, f1172, f1234, f502, f82, f1264, f483, f689, f746, f1917, f725, f578, f1191, f1103, f814, f1058, f333, f352, f223, f1459, f210, f1378, f964, f1076, f1919, f821, f540, f542, f1489, f836, f506, f871, f1205, f1755, f851, f1912, f1759, f61, f2117, f1042, f1561, f1060, f1832, f1034, f1430, f500, f361, f315, f2122, f979, f1452, f1677, f1089, f634, f826, f608, f1594, f1848, f1138, f1431, f755, f480, f2103, f57, f339, f1044, f1373, f943, f1454, f1973, f113, f1509, f885, f573, f1607, f772, f1531, f1693, f140, f983, f752, f1083, f183, f273, f1183, f1664, f1772, f1834, f1542, f922, f342, f582, f1951, f245, f1476, f472, f1824, f1854, f777, f1900, f1375, f1525, f859, f1235, f1082, f1070, f1732, f2088, f1258, f1543, f1187, f105, f1346, f80, f1104, f2025, f2111, f1154, f878, f493, f2016, f1301, f381, f463, f1004, f1909, f208, f559, f1496, f547, f2086, f787, f327, f1031, f1818, f1812, f712, f53, f980, f1179, f1672, f1274, f518, f614, f717, f1697, f1583, f862, f856, f1500, f267, f1397, f1428, f1571, f1580, f1423, f742, f1960, f1356, f1499, f1849, f1859, f623, f521, f1888, f1316, f1949, f2026, f131, f1111, f1440, f1487, f170, f297, f894, f1883, f373, f1466, f879, f1654, f530, f978, f367, f157, f85, f507, f1678, f1022, f409, f1340, f1651, f1987, f1541, f1840, f79, f1418, f234, f1401, f1059, f999, f870, f1929, f99, f287, f526, f515, f860, f115, f1886, f1299, f211, f732, f1806, f320, f1349, f130, f1843, f305, f1846, f410, f1143, f954, f1105, f1914, f1805, f593, f536, f138, f2106, f1946, f1603, f172, f1560, f1821, f317, f599, f1086, f1740, f1826, f845, f256, f1663, f833, f1785, f735, f1853, f1557, f1590, f1862, f56, f765, f1123, f423, f773, f1892, f326, f617, f1932, f1130, f143, f1137, f1298, f1160, f1030, f2066, f523, f567, f934, f1206, f498, f759, f1510, f364, f1068, f2094, f2093, f155, f41, f1475, f517, f1716, f437, f144, f1032, f289, f1566, f368, f432, f318, f426, f1218, f822, f309, f1521, f1573, f636, f858, f783, f726, f1950, f557, f1835, f556, f60, f1722, f1550, f1424, f243, f1326, f628, f1665, f102, f1585, f1425, f1417, f1682, f230, f291, f812, f276, f376, f1278, f649, f1017, f1757, f486, f63, f570, f1692, f1743, f264, f2101, f1163, f2081, f1691, f1622, f1704, f925, f1335, f1477, f1955, f1685, f1150, f667, f1426, f1737, f2064, f1416, f489, f1741, f589, f927, f1181, f835, f1161, f251, f585, f855, f1483, f1807, f88, f2116, f1310, f283, f1670, f260, f947, f2036, f81, f1746, f1717, f1706, f2042, f896, f1827, f1565, f535, f838, f558, f1990, f1780, f827, f1412, f2095, f1938, f2118, f597, f737, f1836, f609, f329, f124, f590, f1724, f758, f380, f2048, f1890, f1287, f126, f713, f1760, f250, f2052, f95, f1199, f1468, f942, f1168, f123, f2006, f1696, f72, f2019, f1053, f2115, f793, f595, f344, f908, f388, f1703, f1961, f1210, f1945, f898, f418, f532, f135, f905, f389, f1046, f2110, f638, f71, f803, f1314, f299, f1498, f1260, f792, f1427, f843, f921, f2061, f345, f1286, f301, f621, f271, f244, f2084, f227, f1554, f1492, f1522, f1324, f940, f1362, f1776, f508, f1149, f702, f1272, f1720, f1549, f374, f1171, f2056, f1268, f1778, f881, f747, f1407, f1333, f1093, f1511, f1763, f1788, f796, f1421, f431, f1339, f107, f627, f290, f919, f203, f2020, f1915, f1625, f1224, f2112, f1838, f1679, f998, f2015, f221, f253, f100, f525, f1844, f757, f1359, f36, f125, f1028, f1322, f266, f1564, f1714, f1088, f122, f307, f738, f399, f1940, f328, f1646, f1470, f1650, f286, f1638, f603, f789, f1771, f939, f883, f1939, f694, f545, f1779, f610, f1450, f1868, f624, f539, f794, f828, f1856, f1217, f1501, f1804, f116, f1436, f1350, f67, f236, f673, f1718, f1823, f439, f916, f1803, f1162, f1252, f473, f1351, f808, f680, f306, f672, f1984, f1605, f1464, f1121, f1461, f1640, f1481, f164, f606, f38, f594, f150, f915, f1144, f1800, f1563, f106, f1369, f1782, f800, f445, f1238, f1006, f1644, f1331, f1491, f133, f1529, f419, f1363, f1942, f343, f551, f1307, f32, f607, f653, f989, f730, f1364, f392, f332, f1387, f1959, f880, f1312, f1581, f1381, f2068, f1995, f1320, f422, f1925, f89, f1038, f1023, f2046, f1140, f2092, f952, f1866, f1537, f1290, f1933, f963, f1833, f1753, f2045, f902, f1964, f909, f893, f1891, f359, f1978, f195, f1999, f537, f591, f371, f1098, f1411, f1377, f657, f891, f1802, f1148, f1376, f935, f647, f1049, f1736, f2121, f1270, f504, f678, f1744, f358, f1300, f639, f406, f1040, f1242, f1344, f383, f1584, f1014, f1852, f788, f1842, f816, f734, f156, f1774, f1855, f1520, f2075, f1731, f1814, f967, f1698, f2074, f900, f1441, f706, f1649, f1400, f620, f644, f1479, f1402, f1248, f1545, f165, f454, f218, f1784, f771, f1306, f1337, f842, f1214, f282, f1578, f1015, f1599, f1943, f665, f815, f907, f1212, f1546, f505, f458, f1246, f1659, f1462, f340, f499, f1977, f1266, f341, f868, f1180, f806, f1451, f335, f2003, f1360, f171, f248, f1075, f1877, f1447, f1507, f531, f1361, f997, f1227, f1880, f1619, f1567, f2038, f929, f1972, f360, f951 in input data"
     ],
     "ename": "ValueError",
     "evalue": "feature_names mismatch: ['f0', 'f1', 'f2', 'f3', 'f4', 'f5', 'f6', 'f7', 'f8', 'f9', 'f10', 'f11', 'f12', 'f13', 'f14', 'f15', 'f16', 'f17', 'f18', 'f19', 'f20', 'f21', 'f22', 'f23', 'f24', 'f25', 'f26', 'f27', 'f28', 'f29', 'f30', 'f31', 'f32', 'f33', 'f34', 'f35', 'f36', 'f37', 'f38', 'f39', 'f40', 'f41', 'f42', 'f43', 'f44', 'f45', 'f46', 'f47', 'f48', 'f49', 'f50', 'f51', 'f52', 'f53', 'f54', 'f55', 'f56', 'f57', 'f58', 'f59', 'f60', 'f61', 'f62', 'f63', 'f64', 'f65', 'f66', 'f67', 'f68', 'f69', 'f70', 'f71', 'f72', 'f73', 'f74', 'f75', 'f76', 'f77', 'f78', 'f79', 'f80', 'f81', 'f82', 'f83', 'f84', 'f85', 'f86', 'f87', 'f88', 'f89', 'f90', 'f91', 'f92', 'f93', 'f94', 'f95', 'f96', 'f97', 'f98', 'f99', 'f100', 'f101', 'f102', 'f103', 'f104', 'f105', 'f106', 'f107', 'f108', 'f109', 'f110', 'f111', 'f112', 'f113', 'f114', 'f115', 'f116', 'f117', 'f118', 'f119', 'f120', 'f121', 'f122', 'f123', 'f124', 'f125', 'f126', 'f127', 'f128', 'f129', 'f130', 'f131', 'f132', 'f133', 'f134', 'f135', 'f136', 'f137', 'f138', 'f139', 'f140', 'f141', 'f142', 'f143', 'f144', 'f145', 'f146', 'f147', 'f148', 'f149', 'f150', 'f151', 'f152', 'f153', 'f154', 'f155', 'f156', 'f157', 'f158', 'f159', 'f160', 'f161', 'f162', 'f163', 'f164', 'f165', 'f166', 'f167', 'f168', 'f169', 'f170', 'f171', 'f172', 'f173', 'f174', 'f175', 'f176', 'f177', 'f178', 'f179', 'f180', 'f181', 'f182', 'f183', 'f184', 'f185', 'f186', 'f187', 'f188', 'f189', 'f190', 'f191', 'f192', 'f193', 'f194', 'f195', 'f196', 'f197', 'f198', 'f199', 'f200', 'f201', 'f202', 'f203', 'f204', 'f205', 'f206', 'f207', 'f208', 'f209', 'f210', 'f211', 'f212', 'f213', 'f214', 'f215', 'f216', 'f217', 'f218', 'f219', 'f220', 'f221', 'f222', 'f223', 'f224', 'f225', 'f226', 'f227', 'f228', 'f229', 'f230', 'f231', 'f232', 'f233', 'f234', 'f235', 'f236', 'f237', 'f238', 'f239', 'f240', 'f241', 'f242', 'f243', 'f244', 'f245', 'f246', 'f247', 'f248', 'f249', 'f250', 'f251', 'f252', 'f253', 'f254', 'f255', 'f256', 'f257', 'f258', 'f259', 'f260', 'f261', 'f262', 'f263', 'f264', 'f265', 'f266', 'f267', 'f268', 'f269', 'f270', 'f271', 'f272', 'f273', 'f274', 'f275', 'f276', 'f277', 'f278', 'f279', 'f280', 'f281', 'f282', 'f283', 'f284', 'f285', 'f286', 'f287', 'f288', 'f289', 'f290', 'f291', 'f292', 'f293', 'f294', 'f295', 'f296', 'f297', 'f298', 'f299', 'f300', 'f301', 'f302', 'f303', 'f304', 'f305', 'f306', 'f307', 'f308', 'f309', 'f310', 'f311', 'f312', 'f313', 'f314', 'f315', 'f316', 'f317', 'f318', 'f319', 'f320', 'f321', 'f322', 'f323', 'f324', 'f325', 'f326', 'f327', 'f328', 'f329', 'f330', 'f331', 'f332', 'f333', 'f334', 'f335', 'f336', 'f337', 'f338', 'f339', 'f340', 'f341', 'f342', 'f343', 'f344', 'f345', 'f346', 'f347', 'f348', 'f349', 'f350', 'f351', 'f352', 'f353', 'f354', 'f355', 'f356', 'f357', 'f358', 'f359', 'f360', 'f361', 'f362', 'f363', 'f364', 'f365', 'f366', 'f367', 'f368', 'f369', 'f370', 'f371', 'f372', 'f373', 'f374', 'f375', 'f376', 'f377', 'f378', 'f379', 'f380', 'f381', 'f382', 'f383', 'f384', 'f385', 'f386', 'f387', 'f388', 'f389', 'f390', 'f391', 'f392', 'f393', 'f394', 'f395', 'f396', 'f397', 'f398', 'f399', 'f400', 'f401', 'f402', 'f403', 'f404', 'f405', 'f406', 'f407', 'f408', 'f409', 'f410', 'f411', 'f412', 'f413', 'f414', 'f415', 'f416', 'f417', 'f418', 'f419', 'f420', 'f421', 'f422', 'f423', 'f424', 'f425', 'f426', 'f427', 'f428', 'f429', 'f430', 'f431', 'f432', 'f433', 'f434', 'f435', 'f436', 'f437', 'f438', 'f439', 'f440', 'f441', 'f442', 'f443', 'f444', 'f445', 'f446', 'f447', 'f448', 'f449', 'f450', 'f451', 'f452', 'f453', 'f454', 'f455', 'f456', 'f457', 'f458', 'f459', 'f460', 'f461', 'f462', 'f463', 'f464', 'f465', 'f466', 'f467', 'f468', 'f469', 'f470', 'f471', 'f472', 'f473', 'f474', 'f475', 'f476', 'f477', 'f478', 'f479', 'f480', 'f481', 'f482', 'f483', 'f484', 'f485', 'f486', 'f487', 'f488', 'f489', 'f490', 'f491', 'f492', 'f493', 'f494', 'f495', 'f496', 'f497', 'f498', 'f499', 'f500', 'f501', 'f502', 'f503', 'f504', 'f505', 'f506', 'f507', 'f508', 'f509', 'f510', 'f511', 'f512', 'f513', 'f514', 'f515', 'f516', 'f517', 'f518', 'f519', 'f520', 'f521', 'f522', 'f523', 'f524', 'f525', 'f526', 'f527', 'f528', 'f529', 'f530', 'f531', 'f532', 'f533', 'f534', 'f535', 'f536', 'f537', 'f538', 'f539', 'f540', 'f541', 'f542', 'f543', 'f544', 'f545', 'f546', 'f547', 'f548', 'f549', 'f550', 'f551', 'f552', 'f553', 'f554', 'f555', 'f556', 'f557', 'f558', 'f559', 'f560', 'f561', 'f562', 'f563', 'f564', 'f565', 'f566', 'f567', 'f568', 'f569', 'f570', 'f571', 'f572', 'f573', 'f574', 'f575', 'f576', 'f577', 'f578', 'f579', 'f580', 'f581', 'f582', 'f583', 'f584', 'f585', 'f586', 'f587', 'f588', 'f589', 'f590', 'f591', 'f592', 'f593', 'f594', 'f595', 'f596', 'f597', 'f598', 'f599', 'f600', 'f601', 'f602', 'f603', 'f604', 'f605', 'f606', 'f607', 'f608', 'f609', 'f610', 'f611', 'f612', 'f613', 'f614', 'f615', 'f616', 'f617', 'f618', 'f619', 'f620', 'f621', 'f622', 'f623', 'f624', 'f625', 'f626', 'f627', 'f628', 'f629', 'f630', 'f631', 'f632', 'f633', 'f634', 'f635', 'f636', 'f637', 'f638', 'f639', 'f640', 'f641', 'f642', 'f643', 'f644', 'f645', 'f646', 'f647', 'f648', 'f649', 'f650', 'f651', 'f652', 'f653', 'f654', 'f655', 'f656', 'f657', 'f658', 'f659', 'f660', 'f661', 'f662', 'f663', 'f664', 'f665', 'f666', 'f667', 'f668', 'f669', 'f670', 'f671', 'f672', 'f673', 'f674', 'f675', 'f676', 'f677', 'f678', 'f679', 'f680', 'f681', 'f682', 'f683', 'f684', 'f685', 'f686', 'f687', 'f688', 'f689', 'f690', 'f691', 'f692', 'f693', 'f694', 'f695', 'f696', 'f697', 'f698', 'f699', 'f700', 'f701', 'f702', 'f703', 'f704', 'f705', 'f706', 'f707', 'f708', 'f709', 'f710', 'f711', 'f712', 'f713', 'f714', 'f715', 'f716', 'f717', 'f718', 'f719', 'f720', 'f721', 'f722', 'f723', 'f724', 'f725', 'f726', 'f727', 'f728', 'f729', 'f730', 'f731', 'f732', 'f733', 'f734', 'f735', 'f736', 'f737', 'f738', 'f739', 'f740', 'f741', 'f742', 'f743', 'f744', 'f745', 'f746', 'f747', 'f748', 'f749', 'f750', 'f751', 'f752', 'f753', 'f754', 'f755', 'f756', 'f757', 'f758', 'f759', 'f760', 'f761', 'f762', 'f763', 'f764', 'f765', 'f766', 'f767', 'f768', 'f769', 'f770', 'f771', 'f772', 'f773', 'f774', 'f775', 'f776', 'f777', 'f778', 'f779', 'f780', 'f781', 'f782', 'f783', 'f784', 'f785', 'f786', 'f787', 'f788', 'f789', 'f790', 'f791', 'f792', 'f793', 'f794', 'f795', 'f796', 'f797', 'f798', 'f799', 'f800', 'f801', 'f802', 'f803', 'f804', 'f805', 'f806', 'f807', 'f808', 'f809', 'f810', 'f811', 'f812', 'f813', 'f814', 'f815', 'f816', 'f817', 'f818', 'f819', 'f820', 'f821', 'f822', 'f823', 'f824', 'f825', 'f826', 'f827', 'f828', 'f829', 'f830', 'f831', 'f832', 'f833', 'f834', 'f835', 'f836', 'f837', 'f838', 'f839', 'f840', 'f841', 'f842', 'f843', 'f844', 'f845', 'f846', 'f847', 'f848', 'f849', 'f850', 'f851', 'f852', 'f853', 'f854', 'f855', 'f856', 'f857', 'f858', 'f859', 'f860', 'f861', 'f862', 'f863', 'f864', 'f865', 'f866', 'f867', 'f868', 'f869', 'f870', 'f871', 'f872', 'f873', 'f874', 'f875', 'f876', 'f877', 'f878', 'f879', 'f880', 'f881', 'f882', 'f883', 'f884', 'f885', 'f886', 'f887', 'f888', 'f889', 'f890', 'f891', 'f892', 'f893', 'f894', 'f895', 'f896', 'f897', 'f898', 'f899', 'f900', 'f901', 'f902', 'f903', 'f904', 'f905', 'f906', 'f907', 'f908', 'f909', 'f910', 'f911', 'f912', 'f913', 'f914', 'f915', 'f916', 'f917', 'f918', 'f919', 'f920', 'f921', 'f922', 'f923', 'f924', 'f925', 'f926', 'f927', 'f928', 'f929', 'f930', 'f931', 'f932', 'f933', 'f934', 'f935', 'f936', 'f937', 'f938', 'f939', 'f940', 'f941', 'f942', 'f943', 'f944', 'f945', 'f946', 'f947', 'f948', 'f949', 'f950', 'f951', 'f952', 'f953', 'f954', 'f955', 'f956', 'f957', 'f958', 'f959', 'f960', 'f961', 'f962', 'f963', 'f964', 'f965', 'f966', 'f967', 'f968', 'f969', 'f970', 'f971', 'f972', 'f973', 'f974', 'f975', 'f976', 'f977', 'f978', 'f979', 'f980', 'f981', 'f982', 'f983', 'f984', 'f985', 'f986', 'f987', 'f988', 'f989', 'f990', 'f991', 'f992', 'f993', 'f994', 'f995', 'f996', 'f997', 'f998', 'f999', 'f1000', 'f1001', 'f1002', 'f1003', 'f1004', 'f1005', 'f1006', 'f1007', 'f1008', 'f1009', 'f1010', 'f1011', 'f1012', 'f1013', 'f1014', 'f1015', 'f1016', 'f1017', 'f1018', 'f1019', 'f1020', 'f1021', 'f1022', 'f1023', 'f1024', 'f1025', 'f1026', 'f1027', 'f1028', 'f1029', 'f1030', 'f1031', 'f1032', 'f1033', 'f1034', 'f1035', 'f1036', 'f1037', 'f1038', 'f1039', 'f1040', 'f1041', 'f1042', 'f1043', 'f1044', 'f1045', 'f1046', 'f1047', 'f1048', 'f1049', 'f1050', 'f1051', 'f1052', 'f1053', 'f1054', 'f1055', 'f1056', 'f1057', 'f1058', 'f1059', 'f1060', 'f1061', 'f1062', 'f1063', 'f1064', 'f1065', 'f1066', 'f1067', 'f1068', 'f1069', 'f1070', 'f1071', 'f1072', 'f1073', 'f1074', 'f1075', 'f1076', 'f1077', 'f1078', 'f1079', 'f1080', 'f1081', 'f1082', 'f1083', 'f1084', 'f1085', 'f1086', 'f1087', 'f1088', 'f1089', 'f1090', 'f1091', 'f1092', 'f1093', 'f1094', 'f1095', 'f1096', 'f1097', 'f1098', 'f1099', 'f1100', 'f1101', 'f1102', 'f1103', 'f1104', 'f1105', 'f1106', 'f1107', 'f1108', 'f1109', 'f1110', 'f1111', 'f1112', 'f1113', 'f1114', 'f1115', 'f1116', 'f1117', 'f1118', 'f1119', 'f1120', 'f1121', 'f1122', 'f1123', 'f1124', 'f1125', 'f1126', 'f1127', 'f1128', 'f1129', 'f1130', 'f1131', 'f1132', 'f1133', 'f1134', 'f1135', 'f1136', 'f1137', 'f1138', 'f1139', 'f1140', 'f1141', 'f1142', 'f1143', 'f1144', 'f1145', 'f1146', 'f1147', 'f1148', 'f1149', 'f1150', 'f1151', 'f1152', 'f1153', 'f1154', 'f1155', 'f1156', 'f1157', 'f1158', 'f1159', 'f1160', 'f1161', 'f1162', 'f1163', 'f1164', 'f1165', 'f1166', 'f1167', 'f1168', 'f1169', 'f1170', 'f1171', 'f1172', 'f1173', 'f1174', 'f1175', 'f1176', 'f1177', 'f1178', 'f1179', 'f1180', 'f1181', 'f1182', 'f1183', 'f1184', 'f1185', 'f1186', 'f1187', 'f1188', 'f1189', 'f1190', 'f1191', 'f1192', 'f1193', 'f1194', 'f1195', 'f1196', 'f1197', 'f1198', 'f1199', 'f1200', 'f1201', 'f1202', 'f1203', 'f1204', 'f1205', 'f1206', 'f1207', 'f1208', 'f1209', 'f1210', 'f1211', 'f1212', 'f1213', 'f1214', 'f1215', 'f1216', 'f1217', 'f1218', 'f1219', 'f1220', 'f1221', 'f1222', 'f1223', 'f1224', 'f1225', 'f1226', 'f1227', 'f1228', 'f1229', 'f1230', 'f1231', 'f1232', 'f1233', 'f1234', 'f1235', 'f1236', 'f1237', 'f1238', 'f1239', 'f1240', 'f1241', 'f1242', 'f1243', 'f1244', 'f1245', 'f1246', 'f1247', 'f1248', 'f1249', 'f1250', 'f1251', 'f1252', 'f1253', 'f1254', 'f1255', 'f1256', 'f1257', 'f1258', 'f1259', 'f1260', 'f1261', 'f1262', 'f1263', 'f1264', 'f1265', 'f1266', 'f1267', 'f1268', 'f1269', 'f1270', 'f1271', 'f1272', 'f1273', 'f1274', 'f1275', 'f1276', 'f1277', 'f1278', 'f1279', 'f1280', 'f1281', 'f1282', 'f1283', 'f1284', 'f1285', 'f1286', 'f1287', 'f1288', 'f1289', 'f1290', 'f1291', 'f1292', 'f1293', 'f1294', 'f1295', 'f1296', 'f1297', 'f1298', 'f1299', 'f1300', 'f1301', 'f1302', 'f1303', 'f1304', 'f1305', 'f1306', 'f1307', 'f1308', 'f1309', 'f1310', 'f1311', 'f1312', 'f1313', 'f1314', 'f1315', 'f1316', 'f1317', 'f1318', 'f1319', 'f1320', 'f1321', 'f1322', 'f1323', 'f1324', 'f1325', 'f1326', 'f1327', 'f1328', 'f1329', 'f1330', 'f1331', 'f1332', 'f1333', 'f1334', 'f1335', 'f1336', 'f1337', 'f1338', 'f1339', 'f1340', 'f1341', 'f1342', 'f1343', 'f1344', 'f1345', 'f1346', 'f1347', 'f1348', 'f1349', 'f1350', 'f1351', 'f1352', 'f1353', 'f1354', 'f1355', 'f1356', 'f1357', 'f1358', 'f1359', 'f1360', 'f1361', 'f1362', 'f1363', 'f1364', 'f1365', 'f1366', 'f1367', 'f1368', 'f1369', 'f1370', 'f1371', 'f1372', 'f1373', 'f1374', 'f1375', 'f1376', 'f1377', 'f1378', 'f1379', 'f1380', 'f1381', 'f1382', 'f1383', 'f1384', 'f1385', 'f1386', 'f1387', 'f1388', 'f1389', 'f1390', 'f1391', 'f1392', 'f1393', 'f1394', 'f1395', 'f1396', 'f1397', 'f1398', 'f1399', 'f1400', 'f1401', 'f1402', 'f1403', 'f1404', 'f1405', 'f1406', 'f1407', 'f1408', 'f1409', 'f1410', 'f1411', 'f1412', 'f1413', 'f1414', 'f1415', 'f1416', 'f1417', 'f1418', 'f1419', 'f1420', 'f1421', 'f1422', 'f1423', 'f1424', 'f1425', 'f1426', 'f1427', 'f1428', 'f1429', 'f1430', 'f1431', 'f1432', 'f1433', 'f1434', 'f1435', 'f1436', 'f1437', 'f1438', 'f1439', 'f1440', 'f1441', 'f1442', 'f1443', 'f1444', 'f1445', 'f1446', 'f1447', 'f1448', 'f1449', 'f1450', 'f1451', 'f1452', 'f1453', 'f1454', 'f1455', 'f1456', 'f1457', 'f1458', 'f1459', 'f1460', 'f1461', 'f1462', 'f1463', 'f1464', 'f1465', 'f1466', 'f1467', 'f1468', 'f1469', 'f1470', 'f1471', 'f1472', 'f1473', 'f1474', 'f1475', 'f1476', 'f1477', 'f1478', 'f1479', 'f1480', 'f1481', 'f1482', 'f1483', 'f1484', 'f1485', 'f1486', 'f1487', 'f1488', 'f1489', 'f1490', 'f1491', 'f1492', 'f1493', 'f1494', 'f1495', 'f1496', 'f1497', 'f1498', 'f1499', 'f1500', 'f1501', 'f1502', 'f1503', 'f1504', 'f1505', 'f1506', 'f1507', 'f1508', 'f1509', 'f1510', 'f1511', 'f1512', 'f1513', 'f1514', 'f1515', 'f1516', 'f1517', 'f1518', 'f1519', 'f1520', 'f1521', 'f1522', 'f1523', 'f1524', 'f1525', 'f1526', 'f1527', 'f1528', 'f1529', 'f1530', 'f1531', 'f1532', 'f1533', 'f1534', 'f1535', 'f1536', 'f1537', 'f1538', 'f1539', 'f1540', 'f1541', 'f1542', 'f1543', 'f1544', 'f1545', 'f1546', 'f1547', 'f1548', 'f1549', 'f1550', 'f1551', 'f1552', 'f1553', 'f1554', 'f1555', 'f1556', 'f1557', 'f1558', 'f1559', 'f1560', 'f1561', 'f1562', 'f1563', 'f1564', 'f1565', 'f1566', 'f1567', 'f1568', 'f1569', 'f1570', 'f1571', 'f1572', 'f1573', 'f1574', 'f1575', 'f1576', 'f1577', 'f1578', 'f1579', 'f1580', 'f1581', 'f1582', 'f1583', 'f1584', 'f1585', 'f1586', 'f1587', 'f1588', 'f1589', 'f1590', 'f1591', 'f1592', 'f1593', 'f1594', 'f1595', 'f1596', 'f1597', 'f1598', 'f1599', 'f1600', 'f1601', 'f1602', 'f1603', 'f1604', 'f1605', 'f1606', 'f1607', 'f1608', 'f1609', 'f1610', 'f1611', 'f1612', 'f1613', 'f1614', 'f1615', 'f1616', 'f1617', 'f1618', 'f1619', 'f1620', 'f1621', 'f1622', 'f1623', 'f1624', 'f1625', 'f1626', 'f1627', 'f1628', 'f1629', 'f1630', 'f1631', 'f1632', 'f1633', 'f1634', 'f1635', 'f1636', 'f1637', 'f1638', 'f1639', 'f1640', 'f1641', 'f1642', 'f1643', 'f1644', 'f1645', 'f1646', 'f1647', 'f1648', 'f1649', 'f1650', 'f1651', 'f1652', 'f1653', 'f1654', 'f1655', 'f1656', 'f1657', 'f1658', 'f1659', 'f1660', 'f1661', 'f1662', 'f1663', 'f1664', 'f1665', 'f1666', 'f1667', 'f1668', 'f1669', 'f1670', 'f1671', 'f1672', 'f1673', 'f1674', 'f1675', 'f1676', 'f1677', 'f1678', 'f1679', 'f1680', 'f1681', 'f1682', 'f1683', 'f1684', 'f1685', 'f1686', 'f1687', 'f1688', 'f1689', 'f1690', 'f1691', 'f1692', 'f1693', 'f1694', 'f1695', 'f1696', 'f1697', 'f1698', 'f1699', 'f1700', 'f1701', 'f1702', 'f1703', 'f1704', 'f1705', 'f1706', 'f1707', 'f1708', 'f1709', 'f1710', 'f1711', 'f1712', 'f1713', 'f1714', 'f1715', 'f1716', 'f1717', 'f1718', 'f1719', 'f1720', 'f1721', 'f1722', 'f1723', 'f1724', 'f1725', 'f1726', 'f1727', 'f1728', 'f1729', 'f1730', 'f1731', 'f1732', 'f1733', 'f1734', 'f1735', 'f1736', 'f1737', 'f1738', 'f1739', 'f1740', 'f1741', 'f1742', 'f1743', 'f1744', 'f1745', 'f1746', 'f1747', 'f1748', 'f1749', 'f1750', 'f1751', 'f1752', 'f1753', 'f1754', 'f1755', 'f1756', 'f1757', 'f1758', 'f1759', 'f1760', 'f1761', 'f1762', 'f1763', 'f1764', 'f1765', 'f1766', 'f1767', 'f1768', 'f1769', 'f1770', 'f1771', 'f1772', 'f1773', 'f1774', 'f1775', 'f1776', 'f1777', 'f1778', 'f1779', 'f1780', 'f1781', 'f1782', 'f1783', 'f1784', 'f1785', 'f1786', 'f1787', 'f1788', 'f1789', 'f1790', 'f1791', 'f1792', 'f1793', 'f1794', 'f1795', 'f1796', 'f1797', 'f1798', 'f1799', 'f1800', 'f1801', 'f1802', 'f1803', 'f1804', 'f1805', 'f1806', 'f1807', 'f1808', 'f1809', 'f1810', 'f1811', 'f1812', 'f1813', 'f1814', 'f1815', 'f1816', 'f1817', 'f1818', 'f1819', 'f1820', 'f1821', 'f1822', 'f1823', 'f1824', 'f1825', 'f1826', 'f1827', 'f1828', 'f1829', 'f1830', 'f1831', 'f1832', 'f1833', 'f1834', 'f1835', 'f1836', 'f1837', 'f1838', 'f1839', 'f1840', 'f1841', 'f1842', 'f1843', 'f1844', 'f1845', 'f1846', 'f1847', 'f1848', 'f1849', 'f1850', 'f1851', 'f1852', 'f1853', 'f1854', 'f1855', 'f1856', 'f1857', 'f1858', 'f1859', 'f1860', 'f1861', 'f1862', 'f1863', 'f1864', 'f1865', 'f1866', 'f1867', 'f1868', 'f1869', 'f1870', 'f1871', 'f1872', 'f1873', 'f1874', 'f1875', 'f1876', 'f1877', 'f1878', 'f1879', 'f1880', 'f1881', 'f1882', 'f1883', 'f1884', 'f1885', 'f1886', 'f1887', 'f1888', 'f1889', 'f1890', 'f1891', 'f1892', 'f1893', 'f1894', 'f1895', 'f1896', 'f1897', 'f1898', 'f1899', 'f1900', 'f1901', 'f1902', 'f1903', 'f1904', 'f1905', 'f1906', 'f1907', 'f1908', 'f1909', 'f1910', 'f1911', 'f1912', 'f1913', 'f1914', 'f1915', 'f1916', 'f1917', 'f1918', 'f1919', 'f1920', 'f1921', 'f1922', 'f1923', 'f1924', 'f1925', 'f1926', 'f1927', 'f1928', 'f1929', 'f1930', 'f1931', 'f1932', 'f1933', 'f1934', 'f1935', 'f1936', 'f1937', 'f1938', 'f1939', 'f1940', 'f1941', 'f1942', 'f1943', 'f1944', 'f1945', 'f1946', 'f1947', 'f1948', 'f1949', 'f1950', 'f1951', 'f1952', 'f1953', 'f1954', 'f1955', 'f1956', 'f1957', 'f1958', 'f1959', 'f1960', 'f1961', 'f1962', 'f1963', 'f1964', 'f1965', 'f1966', 'f1967', 'f1968', 'f1969', 'f1970', 'f1971', 'f1972', 'f1973', 'f1974', 'f1975', 'f1976', 'f1977', 'f1978', 'f1979', 'f1980', 'f1981', 'f1982', 'f1983', 'f1984', 'f1985', 'f1986', 'f1987', 'f1988', 'f1989', 'f1990', 'f1991', 'f1992', 'f1993', 'f1994', 'f1995', 'f1996', 'f1997', 'f1998', 'f1999', 'f2000', 'f2001', 'f2002', 'f2003', 'f2004', 'f2005', 'f2006', 'f2007', 'f2008', 'f2009', 'f2010', 'f2011', 'f2012', 'f2013', 'f2014', 'f2015', 'f2016', 'f2017', 'f2018', 'f2019', 'f2020', 'f2021', 'f2022', 'f2023', 'f2024', 'f2025', 'f2026', 'f2027', 'f2028', 'f2029', 'f2030', 'f2031', 'f2032', 'f2033', 'f2034', 'f2035', 'f2036', 'f2037', 'f2038', 'f2039', 'f2040', 'f2041', 'f2042', 'f2043', 'f2044', 'f2045', 'f2046', 'f2047', 'f2048', 'f2049', 'f2050', 'f2051', 'f2052', 'f2053', 'f2054', 'f2055', 'f2056', 'f2057', 'f2058', 'f2059', 'f2060', 'f2061', 'f2062', 'f2063', 'f2064', 'f2065', 'f2066', 'f2067', 'f2068', 'f2069', 'f2070', 'f2071', 'f2072', 'f2073', 'f2074', 'f2075', 'f2076', 'f2077', 'f2078', 'f2079', 'f2080', 'f2081', 'f2082', 'f2083', 'f2084', 'f2085', 'f2086', 'f2087', 'f2088', 'f2089', 'f2090', 'f2091', 'f2092', 'f2093', 'f2094', 'f2095', 'f2096', 'f2097', 'f2098', 'f2099', 'f2100', 'f2101', 'f2102', 'f2103', 'f2104', 'f2105', 'f2106', 'f2107', 'f2108', 'f2109', 'f2110', 'f2111', 'f2112', 'f2113', 'f2114', 'f2115', 'f2116', 'f2117', 'f2118', 'f2119', 'f2120', 'f2121', 'f2122', 'f2123'] ['f0', 'f1', 'f2', 'f3', 'f4', 'f5', 'f6', 'f7', 'f8', 'f9', 'f10', 'f11', 'f12', 'f13', 'f14', 'f15', 'f16', 'f17', 'f18', 'f19', 'f20', 'f21', 'f22', 'f23', 'f24', 'f25', 'f26', 'f27', 'f28', 'f29', 'f30', 'f31']\nexpected f1628, f111, f669, f1001, f1302, f612, f930, f1611, f549, f1729, f303, f192, f741, f580, f1795, f1568, f1624, f1478, f44, f1998, f1124, f1749, f766, f1660, f178, f2033, f1885, f509, f977, f1920, f1398, f147, f355, f2091, f1343, f485, f1559, f280, f363, f550, f97, f697, f1816, f817, f832, f948, f1709, f911, f1822, f718, f491, f2047, f257, f1526, f457, f353, f1637, f1354, f529, f1661, f1702, f1993, f2032, f226, f1610, f1725, f83, f394, f1315, f1967, f1797, f877, f1794, f1851, f325, f1701, f1981, f1371, f546, f581, f1684, f96, f46, f1534, f1317, f839, f42, f2054, f196, f1439, f213, f1167, f1970, f1177, f1357, f93, f179, f494, f520, f1570, f443, f1721, f588, f1236, f1514, f1901, f1598, f1395, f769, f1773, f622, f1944, f1982, f1066, f519, f643, f141, f910, f440, f745, f420, f699, f205, f214, f2014, f555, f1597, f1615, f824, f118, f786, f180, f70, f1122, f39, f1061, f1271, f691, f177, f427, f1957, f1517, f90, f1304, f1662, f630, f1166, f1865, f1975, f944, f1918, f337, f917, f538, f626, f2050, f1448, f575, f238, f1198, f1223, f421, f470, f1458, f1869, f2059, f1445, f464, f1906, f1273, f2096, f574, f350, f450, f462, f1096, f834, f1735, f1118, f2123, f173, f654, f1069, f503, f1259, f1621, f1087, f188, f887, f1688, f679, f775, f645, f721, f2077, f1115, f1176, f1240, f312, f762, f1265, f1410, f1323, f1930, f1284, f1002, f1593, f356, f139, f263, f407, f563, f1469, f1576, f428, f1110, f912, f1639, f873, f784, f809, f1107, f201, f831, f1791, f968, f533, f1209, f362, f121, f710, f1352, f950, f496, f402, f479, f1747, f1189, f169, f2097, f1495, f1216, f1574, f1535, f2065, f1370, f1379, f1237, f528, f1966, f780, f1064, f34, f430, f154, f1523, f754, f635, f1230, f733, f1390, f1675, f2069, f1063, f268, f451, f1113, f562, f1092, f1958, f1558, f1616, f1353, f719, f1979, f1366, f1752, f2102, f1935, f708, f1289, f666, f548, f1482, f903, f510, f904, f2055, f429, f1719, f740, f198, f543, f1467, f1828, f767, f648, f1341, f475, f467, f225, f931, f1409, f68, f1434, f1756, f1101, f1457, f91, f1653, f1055, f2043, f1311, f98, f1518, f365, f184, f249, f818, f1547, f1683, f247, f1527, f1707, f1642, f1632, f387, f652, f1839, f1332, f1109, f966, f1388, f386, f1503, f1433, f1643, f1726, f302, f1524, f601, f1809, f1751, f1512, f1471, f1733, f1134, f1539, f1443, f490, f224, f763, f1898, f35, f1158, f1488, f460, f651, f1767, f207, f1291, f937, f928, f1255, f323, f727, f750, f892, f1575, f670, f1965, f1604, f1472, f478, f642, f239, f1117, f1054, f1486, f1631, f1897, f920, f2109, f984, f1530, f222, f534, f1072, f938, f1777, f1815, f1536, f993, f785, f577, f2100, f168, f1533, f768, f744, f945, f1065, f1742, f1894, f501, f112, f722, f1078, f1232, f1052, f2076, f378, f92, f1219, f1923, f1553, f1680, f1394, f1422, f1147, f2012, f2083, f162, f695, f1334, f288, f258, f295, f561, f1896, f2009, f1548, f58, f1556, f313, f709, f1026, f1071, f640, f698, f795, f1153, f1907, f1382, f1404, f1969, f602, f1449, f1516, f277, f797, f481, f659, f1338, f190, f2120, f1009, f145, f1595, f2017, f799, f1085, f2030, f1285, f2073, f1837, f1250, f2063, f899, f322, f278, f1405, f1432, f600, f1151, f153, f568, f357, f1948, f438, f707, f1267, f1435, f819, f2072, f182, f674, f632, f398, f957, f650, f2005, f1657, f1952, f1141, f405, f1922, f2049, f1318, f1094, f1810, f484, f1358, f86, f334, f1365, f1617, f1727, f1775, f1463, f246, f1614, f185, f1420, f338, f2044, f1474, f1025, f841, f1275, f1796, f1710, f1263, f1954, f1734, f2037, f955, f151, f1374, f1992, f985, f1786, f1532, f1247, f351, f1902, f961, f1723, f1572, f1220, f1018, f1327, f1953, f1504, f715, f262, f743, f2057, f453, f2034, f65, f1133, f1711, f1188, f379, f1577, f1195, f700, f820, f1245, f576, f781, f1067, f108, f764, f117, f129, f572, f863, f181, f1996, f391, f401, f241, f1283, f692, f413, f869, f2060, f52, f1045, f583, f1231, f1587, f314, f1690, f1280, f1591, f1730, f1860, f629, f1007, f1225, f1019, f1904, f469, f813, f321, f895, f953, f414, f770, f1658, f1372, f1036, f1281, f1226, f48, f527, f1013, f1783, f1899, f254, f949, f77, f1921, f1174, f2080, f1442, f1305, f403, f932, f1513, f1808, f2053, f1010, f1033, f2087, f2114, f1589, f584, f109, f688, f1329, f1207, f1194, f633, f631, f146, f848, f711, f2090, f656, f1937, f1048, f444, f232, f1029, f728, f1222, f805, f1056, f1057, f1867, f714, f1102, f1686, f1738, f1453, f1155, f1244, f2079, f1221, f1097, f1406, f613, f693, f1000, f825, f889, f1766, f2013, f865, f1673, f1671, f119, f397, f1988, f882, f1156, f1091, f1330, f1620, f1627, f1095, f864, f1674, f807, f1793, f1676, f404, f160, f731, f736, f720, f324, f1519, f802, f1142, f662, f1090, f1392, f54, f1204, f587, f1484, f790, f1934, f1368, f51, f2018, f844, f1294, f411, f1062, f1120, f199, f1051, f1073, f778, f926, f1152, f1994, f296, f1787, f1128, f1277, f1256, f270, f625, f960, f202, f466, f1213, f1758, f637, f49, f468, f2098, f1313, f1077, f748, f2113, f687, f382, f760, f677, f159, f933, f681, f1413, f372, f544, f875, f448, f1429, f1497, f973, f1889, f488, f1336, f1713, f1878, f455, f1655, f1129, f1750, f69, f1182, f66, f1582, f664, f684, f685, f810, f696, f971, f874, f197, f972, f2119, f1437, f1754, f1562, f2062, f1629, f149, f1208, f110, f1321, f412, f1139, f1215, f1606, f477, f1396, f804, f1602, f854, f1845, f1630, f1569, f2002, f2078, f2040, f189, f311, f1825, f1200, f1991, f292, f1817, f1508, f986, f918, f461, f2089, f408, f163, f1875, f2000, f1403, f1770, f1164, f1170, f377, f849, f1279, f265, f2039, f1342, f1303, f1544, f914, f1079, f1641, f1438, f87, f992, f906, f434, f958, f436, f1667, f1633, f298, f1968, f514, f1608, f1908, f959, f511, f604, f1841, f300, f596, f1254, f729, f1986, f2070, f235, f471, f2099, f779, f1790, f1012, f1609, f703, f512, f976, f252, f1325, f1903, f1931, f1592, f348, f1135, f346, f1473, f761, f872, f723, f1798, f579, f272, f866, f1080, f1695, f560, f554, f176, f310, f1309, f1020, f619, f1927, f1269, f1976, f441, f152, f970, f433, f1612, f1762, f294, f1799, f686, f1694, f330, f1789, f1579, f416, f1460, f1016, f2008, f682, f319, f541, f1228, f513, f1985, f1383, f1011, f994, f1257, f1243, f212, f136, f142, f1099, f1384, f1112, f395, f565, f1393, f1455, f2031, f476, f1249, f1355, f465, f1971, f660, f1035, f43, f890, f1623, f991, f1980, f1145, f749, f1618, f1864, f1916, f1881, f1847, f158, f1037, f1947, f2071, f2105, f1911, f553, f564, f2067, f1027, f127, f1239, f114, f1196, f242, f671, f1882, f206, f981, f668, f566, f1485, f417, f850, f1829, f2027, f1538, f33, f76, f853, f956, f1715, f886, f1699, f861, f1186, f1024, f101, f1119, f1125, f1502, f216, f281, f946, f1876, f661, f166, f1645, f1962, f73, f969, f990, f261, f237, f823, f1039, f452, f753, f446, f1293, f385, f646, f724, f1276, f995, f55, f233, f751, f1926, f1668, f962, f837, f1185, f1233, f1173, f1857, f1652, f1328, f605, f846, f1157, f103, f1910, f1380, f701, f1515, f1811, f1601, f1008, f913, f924, f1175, f569, f1765, f1197, f1202, f1768, f1974, f2024, f1253, f259, f482, f331, f400, f1192, f598, f1081, f901, f1490, f1850, f2004, f524, f137, f370, f1613, f1761, f104, f615, f516, f1745, f975, f1905, f1708, f1895, f1887, f847, f1648, f62, f1347, f1295, f134, f219, f829, f1647, f2035, f791, f2085, f592, f2029, f1444, f1705, f1884, f390, f704, f1956, f50, f1748, f1165, f1132, f1728, f2104, f2010, f1159, f1100, f988, f442, f308, f194, f756, f655, f1712, f1626, f2022, f1386, f1989, f240, f459, f1586, f1084, f1211, f1414, f1588, f2001, f59, f1005, f161, f285, f120, f255, f801, f45, f209, f690, f415, f2021, f996, f965, f228, f204, f1505, f1792, f683, f275, f1879, f347, f1997, f1131, f1872, f40, f215, f676, f798, f37, f897, f1456, f1385, f857, f1050, f1391, f586, f1003, f774, f1108, f369, f229, f284, f336, f2051, f1813, f1178, f148, f1296, f1114, f1193, f1308, f435, f1764, f982, f1480, f425, f941, f393, f552, f74, f1408, f1446, f1127, f1282, f1769, f1874, f1739, f186, f611, f936, f776, f1021, f618, f191, f217, f349, f1924, f1494, f1419, f1656, f1870, f1936, f1169, f782, f78, f293, f132, f220, f658, f1552, f663, f1540, f739, f279, f1261, f1893, f1819, f456, f1858, f1116, f75, f1700, f200, f522, f1528, f187, f830, f1873, f1146, f354, f316, f175, f1262, f366, f987, f1136, f474, f2108, f1831, f1106, f424, f923, f396, f1297, f1861, f1184, f1319, f1636, f495, f1345, f1203, f1928, f1983, f1043, f1596, f2058, f641, f64, f1292, f1399, f1047, f1687, f1820, f487, f705, f1634, f1126, f1465, f167, f231, f1389, f2007, f716, f1669, f174, f1229, f2082, f1913, f1801, f304, f616, f449, f274, f1251, f375, f675, f1781, f811, f1635, f571, f1367, f492, f867, f193, f84, f269, f2041, f1963, f1863, f1871, f888, f1506, f2028, f840, f1190, f497, f1415, f1941, f1830, f852, f128, f1551, f447, f884, f94, f1201, f1348, f1600, f876, f1681, f1241, f1666, f1074, f2011, f2023, f47, f384, f974, f2107, f1689, f1493, f1288, f1555, f1041, f1172, f1234, f502, f82, f1264, f483, f689, f746, f1917, f725, f578, f1191, f1103, f814, f1058, f333, f352, f223, f1459, f210, f1378, f964, f1076, f1919, f821, f540, f542, f1489, f836, f506, f871, f1205, f1755, f851, f1912, f1759, f61, f2117, f1042, f1561, f1060, f1832, f1034, f1430, f500, f361, f315, f2122, f979, f1452, f1677, f1089, f634, f826, f608, f1594, f1848, f1138, f1431, f755, f480, f2103, f57, f339, f1044, f1373, f943, f1454, f1973, f113, f1509, f885, f573, f1607, f772, f1531, f1693, f140, f983, f752, f1083, f183, f273, f1183, f1664, f1772, f1834, f1542, f922, f342, f582, f1951, f245, f1476, f472, f1824, f1854, f777, f1900, f1375, f1525, f859, f1235, f1082, f1070, f1732, f2088, f1258, f1543, f1187, f105, f1346, f80, f1104, f2025, f2111, f1154, f878, f493, f2016, f1301, f381, f463, f1004, f1909, f208, f559, f1496, f547, f2086, f787, f327, f1031, f1818, f1812, f712, f53, f980, f1179, f1672, f1274, f518, f614, f717, f1697, f1583, f862, f856, f1500, f267, f1397, f1428, f1571, f1580, f1423, f742, f1960, f1356, f1499, f1849, f1859, f623, f521, f1888, f1316, f1949, f2026, f131, f1111, f1440, f1487, f170, f297, f894, f1883, f373, f1466, f879, f1654, f530, f978, f367, f157, f85, f507, f1678, f1022, f409, f1340, f1651, f1987, f1541, f1840, f79, f1418, f234, f1401, f1059, f999, f870, f1929, f99, f287, f526, f515, f860, f115, f1886, f1299, f211, f732, f1806, f320, f1349, f130, f1843, f305, f1846, f410, f1143, f954, f1105, f1914, f1805, f593, f536, f138, f2106, f1946, f1603, f172, f1560, f1821, f317, f599, f1086, f1740, f1826, f845, f256, f1663, f833, f1785, f735, f1853, f1557, f1590, f1862, f56, f765, f1123, f423, f773, f1892, f326, f617, f1932, f1130, f143, f1137, f1298, f1160, f1030, f2066, f523, f567, f934, f1206, f498, f759, f1510, f364, f1068, f2094, f2093, f155, f41, f1475, f517, f1716, f437, f144, f1032, f289, f1566, f368, f432, f318, f426, f1218, f822, f309, f1521, f1573, f636, f858, f783, f726, f1950, f557, f1835, f556, f60, f1722, f1550, f1424, f243, f1326, f628, f1665, f102, f1585, f1425, f1417, f1682, f230, f291, f812, f276, f376, f1278, f649, f1017, f1757, f486, f63, f570, f1692, f1743, f264, f2101, f1163, f2081, f1691, f1622, f1704, f925, f1335, f1477, f1955, f1685, f1150, f667, f1426, f1737, f2064, f1416, f489, f1741, f589, f927, f1181, f835, f1161, f251, f585, f855, f1483, f1807, f88, f2116, f1310, f283, f1670, f260, f947, f2036, f81, f1746, f1717, f1706, f2042, f896, f1827, f1565, f535, f838, f558, f1990, f1780, f827, f1412, f2095, f1938, f2118, f597, f737, f1836, f609, f329, f124, f590, f1724, f758, f380, f2048, f1890, f1287, f126, f713, f1760, f250, f2052, f95, f1199, f1468, f942, f1168, f123, f2006, f1696, f72, f2019, f1053, f2115, f793, f595, f344, f908, f388, f1703, f1961, f1210, f1945, f898, f418, f532, f135, f905, f389, f1046, f2110, f638, f71, f803, f1314, f299, f1498, f1260, f792, f1427, f843, f921, f2061, f345, f1286, f301, f621, f271, f244, f2084, f227, f1554, f1492, f1522, f1324, f940, f1362, f1776, f508, f1149, f702, f1272, f1720, f1549, f374, f1171, f2056, f1268, f1778, f881, f747, f1407, f1333, f1093, f1511, f1763, f1788, f796, f1421, f431, f1339, f107, f627, f290, f919, f203, f2020, f1915, f1625, f1224, f2112, f1838, f1679, f998, f2015, f221, f253, f100, f525, f1844, f757, f1359, f36, f125, f1028, f1322, f266, f1564, f1714, f1088, f122, f307, f738, f399, f1940, f328, f1646, f1470, f1650, f286, f1638, f603, f789, f1771, f939, f883, f1939, f694, f545, f1779, f610, f1450, f1868, f624, f539, f794, f828, f1856, f1217, f1501, f1804, f116, f1436, f1350, f67, f236, f673, f1718, f1823, f439, f916, f1803, f1162, f1252, f473, f1351, f808, f680, f306, f672, f1984, f1605, f1464, f1121, f1461, f1640, f1481, f164, f606, f38, f594, f150, f915, f1144, f1800, f1563, f106, f1369, f1782, f800, f445, f1238, f1006, f1644, f1331, f1491, f133, f1529, f419, f1363, f1942, f343, f551, f1307, f32, f607, f653, f989, f730, f1364, f392, f332, f1387, f1959, f880, f1312, f1581, f1381, f2068, f1995, f1320, f422, f1925, f89, f1038, f1023, f2046, f1140, f2092, f952, f1866, f1537, f1290, f1933, f963, f1833, f1753, f2045, f902, f1964, f909, f893, f1891, f359, f1978, f195, f1999, f537, f591, f371, f1098, f1411, f1377, f657, f891, f1802, f1148, f1376, f935, f647, f1049, f1736, f2121, f1270, f504, f678, f1744, f358, f1300, f639, f406, f1040, f1242, f1344, f383, f1584, f1014, f1852, f788, f1842, f816, f734, f156, f1774, f1855, f1520, f2075, f1731, f1814, f967, f1698, f2074, f900, f1441, f706, f1649, f1400, f620, f644, f1479, f1402, f1248, f1545, f165, f454, f218, f1784, f771, f1306, f1337, f842, f1214, f282, f1578, f1015, f1599, f1943, f665, f815, f907, f1212, f1546, f505, f458, f1246, f1659, f1462, f340, f499, f1977, f1266, f341, f868, f1180, f806, f1451, f335, f2003, f1360, f171, f248, f1075, f1877, f1447, f1507, f531, f1361, f997, f1227, f1880, f1619, f1567, f2038, f929, f1972, f360, f951 in input data",
     "output_type": "error"
    }
   ],
   "source": [
    "# generate predictions at the chosen threshold\n",
    "preds = (clf.predict_proba(X)[:,1] > best_threshold).astype(np.int8)"
   ],
   "metadata": {
    "collapsed": false,
    "pycharm": {
     "name": "#%%\n",
     "is_executing": false
    }
   }
  },
  {
   "cell_type": "code",
   "execution_count": null,
   "outputs": [],
   "source": [
    "# and submit\n",
    "sub = pd.read_csv(\"F:\\\\Pycharm\\\\SCDS-borchFactory\\\\data\\\\sample_submission.csv\", index_col=0)\n",
    "sub[\"Response\"] = preds\n",
    "sub.to_csv(\"submission.csv.gz\", compression=\"gzip\")"
   ],
   "metadata": {
    "collapsed": false,
    "pycharm": {
     "name": "#%%\n",
     "is_executing": false
    }
   }
  },
  {
   "cell_type": "code",
   "execution_count": null,
   "outputs": [],
   "source": [
    "print('done')\n",
    "print(len(preds), len(sub))"
   ],
   "metadata": {
    "collapsed": false,
    "pycharm": {
     "name": "#%%\n",
     "is_executing": false
    }
   }
  },
  {
   "cell_type": "code",
   "execution_count": null,
   "outputs": [],
   "source": [
    "date_chunks = pd.read_csv(\"F:\\\\Pycharm\\\\SCDS-borchFactory\\\\data\\\\test_date.csv\", index_col=0, dtype=np.float32,\n",
    "                usecols=np.concatenate([[0], important_indices[important_indices<1156]+1]))\n",
    "num_chunks = pd.read_csv(\"F:\\\\Pycharm\\\\SCDS-borchFactory\\\\data\\\\test_numeric.csv\")\n",
    "X = pd.concat([pd.concat([dchunk, nchunk], axis=1).sample(frac=0.05)\n",
    "               for dchunk, nchunk in zip(date_chunks, num_chunks)])\n",
    "y = pd.read_csv(\"F:\\\\Pycharm\\\\SCDS-borchFactory\\\\data\\\\train_numeric.csv\", index_col=0, usecols=[0,969], dtype=np.float32).loc[X.index].values.ravel()\n",
    "X = X.values\n",
    "\n"
   ],
   "metadata": {
    "collapsed": false,
    "pycharm": {
     "name": "#%%\n",
     "is_executing": true
    }
   }
  },
  {
   "cell_type": "code",
   "execution_count": null,
   "outputs": [],
   "source": [
    "print('done')\n",
    "\n"
   ],
   "metadata": {
    "collapsed": false,
    "pycharm": {
     "name": "#%%\n",
     "is_executing": false
    }
   }
  },
  {
   "cell_type": "code",
   "execution_count": null,
   "outputs": [],
   "source": [
    "\n"
   ],
   "metadata": {
    "collapsed": false,
    "pycharm": {
     "name": "#%%\n"
    }
   }
  }
 ],
 "metadata": {
  "kernelspec": {
   "display_name": "Python 3",
   "language": "python",
   "name": "python3"
  },
  "language_info": {
   "codemirror_mode": {
    "name": "ipython",
    "version": 2
   },
   "file_extension": ".py",
   "mimetype": "text/x-python",
   "name": "python",
   "nbconvert_exporter": "python",
   "pygments_lexer": "ipython2",
   "version": "2.7.6"
  },
  "pycharm": {
   "stem_cell": {
    "cell_type": "raw",
    "source": [],
    "metadata": {
     "collapsed": false
    }
   }
  }
 },
 "nbformat": 4,
 "nbformat_minor": 0
}